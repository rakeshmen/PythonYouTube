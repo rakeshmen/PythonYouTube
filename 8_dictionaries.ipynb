{
 "cells": [
  {
   "cell_type": "markdown",
   "id": "c9e1587e",
   "metadata": {},
   "source": [
    "# Dictionaries in Python"
   ]
  },
  {
   "cell_type": "code",
   "execution_count": 47,
   "id": "abb0e661",
   "metadata": {},
   "outputs": [],
   "source": [
    "# List, Tuple, and List is ordered collection of objects.\n",
    "# But a dictionary is a collection of key-value pairs.\n",
    "\n",
    "# Dictionaries in Python\n",
    "# A dictionary is a collection of key-value pairs\n",
    "# Each key is unique and maps to a value\n",
    "\n",
    "# Mutability:\n",
    "# Keys must be immutable (e.g., strings, numbers, tuples), while values can be of any data type.\n",
    "# Dictionaries are mutable, meaning their contents can be changed after creation.\n",
    "# You can add new key-value pairs, modify existing values, or remove pairs.\n",
    "\n",
    "# Uniqueness of Keys:\n",
    "# Keys must be unique within a dictionary. If a duplicate key is used, the previous value is overwritten.\n",
    "\n",
    "# Non sequential, unordered collection\n",
    "# Unordered, mutable, and indexed"
   ]
  },
  {
   "cell_type": "code",
   "execution_count": 48,
   "id": "f1be79fb",
   "metadata": {},
   "outputs": [
    {
     "name": "stdout",
     "output_type": "stream",
     "text": [
      "[1, 2, 3, 4, 5]\n",
      "10 in list1 is: False\n"
     ]
    }
   ],
   "source": [
    "# Find item in a list\n",
    "list1 = [1, 2, 3, 4, 5]\n",
    "print(list1)\n",
    "print('10 in list1 is:', 10 in list1)  # Returns True if 10 is in list1, otherwise False\n",
    "\n",
    "# Here computer needs to check each item in the list.\n",
    "\n",
    "# So dictionaries are more efficient for lookups"
   ]
  },
  {
   "cell_type": "code",
   "execution_count": 49,
   "id": "eb7e3c9f",
   "metadata": {},
   "outputs": [
    {
     "name": "stdout",
     "output_type": "stream",
     "text": [
      "{'name': 'Alice', 'age': 30, 'city': 'Panvel'}\n"
     ]
    }
   ],
   "source": [
    "my_dict = {'name': 'Alice', 'age': 30, 'city': 'Panvel'}\n",
    "print(my_dict)"
   ]
  },
  {
   "cell_type": "code",
   "execution_count": 50,
   "id": "cce18601",
   "metadata": {},
   "outputs": [
    {
     "data": {
      "text/plain": [
       "False"
      ]
     },
     "execution_count": 50,
     "metadata": {},
     "output_type": "execute_result"
    }
   ],
   "source": [
    "'Alice' in my_dict\n",
    "# Returns True if 'Alice' is a key in my_dict, otherwise False\n",
    "# as we know, 'Alice' is not a key in my_dict, so it returns False"
   ]
  },
  {
   "cell_type": "code",
   "execution_count": 51,
   "id": "05f4533e",
   "metadata": {},
   "outputs": [
    {
     "data": {
      "text/plain": [
       "True"
      ]
     },
     "execution_count": 51,
     "metadata": {},
     "output_type": "execute_result"
    }
   ],
   "source": [
    "'name' in my_dict\n",
    "# Returns True if 'name' is a key in my_dict, otherwise False\n",
    "# as we know, 'name' is a key in my_dict, so it returns True"
   ]
  },
  {
   "cell_type": "code",
   "execution_count": 52,
   "id": "93ec8f7d",
   "metadata": {},
   "outputs": [
    {
     "data": {
      "text/plain": [
       "True"
      ]
     },
     "execution_count": 52,
     "metadata": {},
     "output_type": "execute_result"
    }
   ],
   "source": [
    "# Find item in a dictionary\n",
    "'Alice' in my_dict.values() # Returns True if 'Alice' is a value in my_dict, otherwise False"
   ]
  },
  {
   "cell_type": "code",
   "execution_count": 53,
   "id": "d8697095",
   "metadata": {},
   "outputs": [
    {
     "data": {
      "text/plain": [
       "True"
      ]
     },
     "execution_count": 53,
     "metadata": {},
     "output_type": "execute_result"
    }
   ],
   "source": [
    "# Find key in a dictionary\n",
    "'name' in my_dict"
   ]
  },
  {
   "cell_type": "code",
   "execution_count": 54,
   "id": "a1cca957",
   "metadata": {},
   "outputs": [
    {
     "data": {
      "text/plain": [
       "'Alice'"
      ]
     },
     "execution_count": 54,
     "metadata": {},
     "output_type": "execute_result"
    }
   ],
   "source": [
    "my_dict['name']"
   ]
  },
  {
   "cell_type": "code",
   "execution_count": 55,
   "id": "9b0a6208",
   "metadata": {},
   "outputs": [
    {
     "data": {
      "text/plain": [
       "30"
      ]
     },
     "execution_count": 55,
     "metadata": {},
     "output_type": "execute_result"
    }
   ],
   "source": [
    "my_dict['age']"
   ]
  },
  {
   "cell_type": "code",
   "execution_count": 56,
   "id": "7237860e",
   "metadata": {},
   "outputs": [
    {
     "data": {
      "text/plain": [
       "'Panvel'"
      ]
     },
     "execution_count": 56,
     "metadata": {},
     "output_type": "execute_result"
    }
   ],
   "source": [
    "my_dict['city']"
   ]
  },
  {
   "cell_type": "code",
   "execution_count": 57,
   "id": "f8ce59de",
   "metadata": {},
   "outputs": [],
   "source": [
    "dict1 = {\n",
    "    'name': ['Ram', 'Shyam', 'Sita'],\n",
    "    'age': [25, 22, 18],\n",
    "    'city': ['Mumbai', 'Chicago', 'Manchester']\n",
    "}"
   ]
  },
  {
   "cell_type": "code",
   "execution_count": 58,
   "id": "addf3db5",
   "metadata": {},
   "outputs": [],
   "source": [
    "# Add key-value pair to dictionary\n",
    "dict1['country'] = ['India', 'USA', 'UK']"
   ]
  },
  {
   "cell_type": "code",
   "execution_count": 59,
   "id": "9e26eed5",
   "metadata": {},
   "outputs": [
    {
     "data": {
      "text/plain": [
       "{'name': ['Ram', 'Shyam', 'Sita'],\n",
       " 'age': [25, 22, 18],\n",
       " 'city': ['Mumbai', 'Chicago', 'Manchester'],\n",
       " 'country': ['India', 'USA', 'UK']}"
      ]
     },
     "execution_count": 59,
     "metadata": {},
     "output_type": "execute_result"
    }
   ],
   "source": [
    "dict1"
   ]
  },
  {
   "cell_type": "code",
   "execution_count": 60,
   "id": "0608ff90",
   "metadata": {},
   "outputs": [
    {
     "data": {
      "text/plain": [
       "{'name': ['Ram', 'Shyam', 'Sita'],\n",
       " 'age': [25, 22, 18],\n",
       " 'country': ['India', 'USA', 'UK']}"
      ]
     },
     "execution_count": 60,
     "metadata": {},
     "output_type": "execute_result"
    }
   ],
   "source": [
    "# Delete key-value pair from dictionary\n",
    "del dict1['city']\n",
    "dict1"
   ]
  },
  {
   "cell_type": "code",
   "execution_count": 61,
   "id": "289b32d7",
   "metadata": {},
   "outputs": [],
   "source": [
    "dict1['continent'] = ['Asia', 'North America', 'Europe']"
   ]
  },
  {
   "cell_type": "code",
   "execution_count": 62,
   "id": "1321d88b",
   "metadata": {},
   "outputs": [
    {
     "data": {
      "text/plain": [
       "4"
      ]
     },
     "execution_count": 62,
     "metadata": {},
     "output_type": "execute_result"
    }
   ],
   "source": [
    "# Check length of dictionary\n",
    "len(dict1)  # Returns the number of key-value pairs in dict1"
   ]
  },
  {
   "cell_type": "code",
   "execution_count": 63,
   "id": "fc58afd2",
   "metadata": {},
   "outputs": [
    {
     "data": {
      "text/plain": [
       "True"
      ]
     },
     "execution_count": 63,
     "metadata": {},
     "output_type": "execute_result"
    }
   ],
   "source": [
    "# Check key existence\n",
    "'name' in dict1"
   ]
  },
  {
   "cell_type": "code",
   "execution_count": 64,
   "id": "ab8638fe",
   "metadata": {},
   "outputs": [
    {
     "data": {
      "text/plain": [
       "False"
      ]
     },
     "execution_count": 64,
     "metadata": {},
     "output_type": "execute_result"
    }
   ],
   "source": [
    "# Check if a key exists in the dictionary\n",
    "'city' in dict1"
   ]
  },
  {
   "cell_type": "code",
   "execution_count": 65,
   "id": "1b5324c2",
   "metadata": {},
   "outputs": [
    {
     "data": {
      "text/plain": [
       "False"
      ]
     },
     "execution_count": 65,
     "metadata": {},
     "output_type": "execute_result"
    }
   ],
   "source": [
    "# Check if a value exists in the dictionary\n",
    "'India' in dict1.values()"
   ]
  },
  {
   "cell_type": "code",
   "execution_count": 66,
   "id": "a346b58b",
   "metadata": {},
   "outputs": [
    {
     "data": {
      "text/plain": [
       "False"
      ]
     },
     "execution_count": 66,
     "metadata": {},
     "output_type": "execute_result"
    }
   ],
   "source": [
    "# Check value existence\n",
    "'Asia' in dict1.values()"
   ]
  },
  {
   "cell_type": "code",
   "execution_count": 67,
   "id": "8267afee",
   "metadata": {},
   "outputs": [
    {
     "name": "stdout",
     "output_type": "stream",
     "text": [
      "{'name': ['Ram', 'Shyam', 'Sita'], 'age': [25, 22, 18], 'country': ['India', 'USA', 'UK'], 'continent': ['Asia', 'North America', 'Europe']}\n"
     ]
    },
    {
     "data": {
      "text/plain": [
       "True"
      ]
     },
     "execution_count": 67,
     "metadata": {},
     "output_type": "execute_result"
    }
   ],
   "source": [
    "# Find item in a dictionary\n",
    "print(dict1)\n",
    "any('India' in value for value in dict1.values())"
   ]
  },
  {
   "cell_type": "code",
   "execution_count": 68,
   "id": "808b8487",
   "metadata": {},
   "outputs": [
    {
     "data": {
      "text/plain": [
       "dict_keys(['name', 'age', 'country', 'continent'])"
      ]
     },
     "execution_count": 68,
     "metadata": {},
     "output_type": "execute_result"
    }
   ],
   "source": [
    "dict1.keys()"
   ]
  },
  {
   "cell_type": "code",
   "execution_count": 69,
   "id": "c6c4986d",
   "metadata": {},
   "outputs": [
    {
     "data": {
      "text/plain": [
       "dict_values([['Ram', 'Shyam', 'Sita'], [25, 22, 18], ['India', 'USA', 'UK'], ['Asia', 'North America', 'Europe']])"
      ]
     },
     "execution_count": 69,
     "metadata": {},
     "output_type": "execute_result"
    }
   ],
   "source": [
    "dict1.values()"
   ]
  },
  {
   "cell_type": "code",
   "execution_count": 70,
   "id": "aa5e2604",
   "metadata": {},
   "outputs": [
    {
     "data": {
      "text/plain": [
       "dict_items([('name', ['Ram', 'Shyam', 'Sita']), ('age', [25, 22, 18]), ('country', ['India', 'USA', 'UK']), ('continent', ['Asia', 'North America', 'Europe'])])"
      ]
     },
     "execution_count": 70,
     "metadata": {},
     "output_type": "execute_result"
    }
   ],
   "source": [
    "dict1.items()"
   ]
  },
  {
   "cell_type": "code",
   "execution_count": 71,
   "id": "aefa1d27",
   "metadata": {},
   "outputs": [
    {
     "data": {
      "text/plain": [
       "['Ram', 'Shyam', 'Sita']"
      ]
     },
     "execution_count": 71,
     "metadata": {},
     "output_type": "execute_result"
    }
   ],
   "source": [
    "dict1.get('name') # Returns the value associated with the key 'name'"
   ]
  },
  {
   "cell_type": "code",
   "execution_count": 72,
   "id": "c160c925",
   "metadata": {},
   "outputs": [
    {
     "data": {
      "text/plain": [
       "['Ram', 'Shyam', 'Sita']"
      ]
     },
     "execution_count": 72,
     "metadata": {},
     "output_type": "execute_result"
    }
   ],
   "source": [
    "dict1['name']  # Returns the list of names"
   ]
  },
  {
   "cell_type": "code",
   "execution_count": 73,
   "id": "c5f69742",
   "metadata": {},
   "outputs": [
    {
     "data": {
      "text/plain": [
       "dict_items([('name', ['Ram', 'Shyam', 'Sita']), ('age', [25, 22, 18]), ('country', ['India', 'USA', 'UK']), ('continent', ['Asia', 'North America', 'Europe'])])"
      ]
     },
     "execution_count": 73,
     "metadata": {},
     "output_type": "execute_result"
    }
   ],
   "source": [
    "dict1.items()  # Returns a view object that displays a list of dictionary's key-value tuple pairs"
   ]
  },
  {
   "cell_type": "code",
   "execution_count": 74,
   "id": "04fd1ffc",
   "metadata": {},
   "outputs": [],
   "source": [
    "my_table_from_dict ={\n",
    "    'name': ['Ram', 'Shyam', 'Sita'],\n",
    "    'age': [25, 22, 18],\n",
    "    'city': ['Mumbai', 'NY', 'London'],\n",
    "    'country': ['India', 'USA', 'UK'],\n",
    "    'continent': ['Asia', 'North America', 'Europe']\n",
    "}"
   ]
  },
  {
   "cell_type": "code",
   "execution_count": 75,
   "id": "d31338f3",
   "metadata": {},
   "outputs": [
    {
     "data": {
      "text/plain": [
       "{'name': ['Ram', 'Shyam', 'Sita'],\n",
       " 'age': [25, 22, 18],\n",
       " 'city': ['Mumbai', 'NY', 'London'],\n",
       " 'country': ['India', 'USA', 'UK'],\n",
       " 'continent': ['Asia', 'North America', 'Europe']}"
      ]
     },
     "execution_count": 75,
     "metadata": {},
     "output_type": "execute_result"
    }
   ],
   "source": [
    "my_table_from_dict"
   ]
  },
  {
   "cell_type": "code",
   "execution_count": 76,
   "id": "80d1e552",
   "metadata": {},
   "outputs": [],
   "source": [
    "# Keys, values, and items in a dictionary\n",
    "dict123 = {'name': 'Shyam', 'age': 22, 'city': 'Pune'}"
   ]
  },
  {
   "cell_type": "code",
   "execution_count": 77,
   "id": "521fee44",
   "metadata": {},
   "outputs": [
    {
     "data": {
      "text/plain": [
       "dict_keys(['name', 'age', 'city'])"
      ]
     },
     "execution_count": 77,
     "metadata": {},
     "output_type": "execute_result"
    }
   ],
   "source": [
    "dict123.keys()"
   ]
  },
  {
   "cell_type": "code",
   "execution_count": 78,
   "id": "dbba0aa9",
   "metadata": {},
   "outputs": [
    {
     "data": {
      "text/plain": [
       "dict_values(['Shyam', 22, 'Pune'])"
      ]
     },
     "execution_count": 78,
     "metadata": {},
     "output_type": "execute_result"
    }
   ],
   "source": [
    "dict123.values()"
   ]
  },
  {
   "cell_type": "code",
   "execution_count": 79,
   "id": "ef029688",
   "metadata": {},
   "outputs": [
    {
     "data": {
      "text/plain": [
       "dict_items([('name', 'Shyam'), ('age', 22), ('city', 'Pune')])"
      ]
     },
     "execution_count": 79,
     "metadata": {},
     "output_type": "execute_result"
    }
   ],
   "source": [
    "dict123.items()"
   ]
  },
  {
   "cell_type": "code",
   "execution_count": 80,
   "id": "0805cb0c",
   "metadata": {},
   "outputs": [],
   "source": [
    "# Operations on dictionaries"
   ]
  },
  {
   "cell_type": "code",
   "execution_count": 81,
   "id": "c97c7bd4",
   "metadata": {},
   "outputs": [],
   "source": [
    "dict123.update({'country': 'India'}) # Adds a new key-value pair to the dictionary"
   ]
  },
  {
   "cell_type": "code",
   "execution_count": 82,
   "id": "3036cbfe",
   "metadata": {},
   "outputs": [
    {
     "data": {
      "text/plain": [
       "{'name': 'Shyam', 'age': 22, 'city': 'Pune', 'country': 'India'}"
      ]
     },
     "execution_count": 82,
     "metadata": {},
     "output_type": "execute_result"
    }
   ],
   "source": [
    "dict123"
   ]
  },
  {
   "cell_type": "code",
   "execution_count": 83,
   "id": "b6128fb3",
   "metadata": {},
   "outputs": [
    {
     "data": {
      "text/plain": [
       "'India'"
      ]
     },
     "execution_count": 83,
     "metadata": {},
     "output_type": "execute_result"
    }
   ],
   "source": [
    "dict123.pop('country') # Removes the country key-value pair and returns it"
   ]
  },
  {
   "cell_type": "code",
   "execution_count": 84,
   "id": "b4afc702",
   "metadata": {},
   "outputs": [
    {
     "data": {
      "text/plain": [
       "'Shyam'"
      ]
     },
     "execution_count": 84,
     "metadata": {},
     "output_type": "execute_result"
    }
   ],
   "source": [
    "dict123.get('name') # Returns the value associated with the key 'name'"
   ]
  }
 ],
 "metadata": {
  "kernelspec": {
   "display_name": "venvpyyt",
   "language": "python",
   "name": "python3"
  },
  "language_info": {
   "codemirror_mode": {
    "name": "ipython",
    "version": 3
   },
   "file_extension": ".py",
   "mimetype": "text/x-python",
   "name": "python",
   "nbconvert_exporter": "python",
   "pygments_lexer": "ipython3",
   "version": "3.13.3"
  }
 },
 "nbformat": 4,
 "nbformat_minor": 5
}
