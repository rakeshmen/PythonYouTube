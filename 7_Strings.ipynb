{
 "cells": [
  {
   "cell_type": "code",
   "execution_count": 1,
   "id": "ddb42211",
   "metadata": {},
   "outputs": [],
   "source": [
    "# Strings are immutable sequences of Unicode characters.\n",
    "# They can be created using single quotes, double quotes, or triple quotes.\n",
    "# Triple quotes allow for multi-line strings and can use either single or double quotes.\n",
    "# Strings can be concatenated using the + operator and repeated using the * operator.\n",
    "# Strings can be indexed and sliced like lists, with the first character at index 0.\n",
    "# The len() function returns the length of a string.\n",
    "# Strings can be iterated over in a for loop, and they support various methods for manipulation.\n",
    "# Strings can be formatted using f-strings, the format() method, or the % operator."
   ]
  },
  {
   "cell_type": "code",
   "execution_count": 3,
   "id": "0d748c44",
   "metadata": {},
   "outputs": [
    {
     "name": "stdout",
     "output_type": "stream",
     "text": [
      "Hello, World!\n",
      "Hello, World! How are you?\n",
      "Hello, World!Hello, World!\n",
      "H\n",
      "World\n",
      "13\n",
      "HELLO, WORLD!\n",
      "hello, world!\n",
      "Hello, World! - 13 characters\n",
      "Hello, World! - 13 characters\n",
      "Hello, World! - 13 characters\n",
      "This is a multi-line string.\n",
      "It can span multiple lines\n",
      "and can include 'single' and \"double\" quotes.\n",
      "He said, \"Hello, World!\"\n"
     ]
    }
   ],
   "source": [
    "my_string = \"Hello, World!\"\n",
    "print(my_string)  # Output: Hello, World!\n",
    "\n",
    "\n",
    "# Concatenation\n",
    "another_string = \" How are you?\"\n",
    "combined_string = my_string + another_string\n",
    "print(combined_string)  # Output: Hello, World! How are you?\n",
    "\n",
    "\n",
    "# Repetition\n",
    "repeated_string = my_string * 2\n",
    "print(repeated_string)  # Output: Hello, World!Hello, World!\n",
    "\n",
    "\n",
    "# Indexing\n",
    "first_char = my_string[0]\n",
    "print(first_char)  # Output: H\n",
    "\n",
    "\n",
    "# Slicing\n",
    "sliced_string = my_string[7:12]\n",
    "print(sliced_string)  # Output: World\n",
    "\n",
    "\n",
    "# Length\n",
    "string_length = len(my_string)\n",
    "print(string_length)  # Output: 13\n",
    "\n",
    "\n",
    "# String methods\n",
    "upper_string = my_string.upper()\n",
    "print(upper_string)  # Output: HELLO, WORLD!\n",
    "lower_string = my_string.lower()\n",
    "print(lower_string)  # Output: hello, world!\n",
    "\n",
    "\n",
    "# String formatting\n",
    "formatted_string = f\"{my_string} - {string_length} characters\"\n",
    "print(formatted_string)  # Output: Hello, World! - 13 characters\n",
    "\n",
    "\n",
    "# Using format() method\n",
    "formatted_string2 = \"{} - {} characters\".format(my_string, string_length)\n",
    "print(formatted_string2)  # Output: Hello, World! - 13 characters\n",
    "\n",
    "\n",
    "# Using % operator\n",
    "formatted_string3 = \"%s - %d characters\" % (my_string, string_length)\n",
    "print(formatted_string3)  # Output: Hello, World! - 13 characters\n",
    "\n",
    "\n",
    "# Triple quotes for multi-line strings\n",
    "multi_line_string = \"\"\"This is a multi-line string.\n",
    "It can span multiple lines\n",
    "and can include 'single' and \"double\" quotes.\"\"\"\n",
    "print(multi_line_string)\n",
    "# Output:\n",
    "# This is a multi-line string.\n",
    "# It can span multiple lines\n",
    "# and can include 'single' and \"double\" quotes.\n",
    "# Escape sequences\n",
    "\n",
    "\n",
    "escaped_string = \"He said, \\\"Hello, World!\\\"\"\n",
    "print(escaped_string)  # Output: He said, \"Hello, World!\""
   ]
  },
  {
   "cell_type": "code",
   "execution_count": 19,
   "id": "56e39099",
   "metadata": {},
   "outputs": [
    {
     "name": "stdout",
     "output_type": "stream",
     "text": [
      "Hello, World!\n"
     ]
    }
   ],
   "source": [
    "print(my_string)"
   ]
  },
  {
   "cell_type": "code",
   "execution_count": 20,
   "id": "94978782",
   "metadata": {},
   "outputs": [
    {
     "name": "stdout",
     "output_type": "stream",
     "text": [
      "13\n"
     ]
    }
   ],
   "source": [
    "# Total number of characters in the string; len() function\n",
    "print(len(my_string))"
   ]
  },
  {
   "cell_type": "code",
   "execution_count": 24,
   "id": "b17d6a1f",
   "metadata": {},
   "outputs": [
    {
     "data": {
      "text/plain": [
       "2"
      ]
     },
     "execution_count": 24,
     "metadata": {},
     "output_type": "execute_result"
    }
   ],
   "source": [
    "# Total occurrences of a character in the string; count() method\n",
    "my_string.count('o')"
   ]
  },
  {
   "cell_type": "code",
   "execution_count": 27,
   "id": "3cec7439",
   "metadata": {},
   "outputs": [
    {
     "name": "stdout",
     "output_type": "stream",
     "text": [
      "7\n",
      "7\n"
     ]
    }
   ],
   "source": [
    "# Find index of a character in the string; index() method\n",
    "print(my_string.index('W'))\n",
    "print(my_string.index('World'))"
   ]
  },
  {
   "cell_type": "code",
   "execution_count": 28,
   "id": "b9b20474",
   "metadata": {},
   "outputs": [
    {
     "name": "stdout",
     "output_type": "stream",
     "text": [
      "Hello\n",
      "World!\n"
     ]
    }
   ],
   "source": [
    "# Slicing\n",
    "print(my_string[0:5])  # Output: Hello\n",
    "print(my_string[7:])   # Output: World!"
   ]
  },
  {
   "cell_type": "code",
   "execution_count": 33,
   "id": "879df9ed",
   "metadata": {},
   "outputs": [
    {
     "name": "stdout",
     "output_type": "stream",
     "text": [
      "HELLO, WORLD!\n",
      "hello, world!\n",
      "Hello, World!\n"
     ]
    }
   ],
   "source": [
    "# String methods\n",
    "upr = my_string.upper()  # Converts to uppercase\n",
    "print(upr)  # Output: HELLO, WORLD!\n",
    "lwr = my_string.lower()  # Converts to lowercase\n",
    "print(lwr)  # Output: hello, world!\n",
    "ttl = my_string.title()  # Converts to title case\n",
    "print(ttl)  # Output: Hello, World!"
   ]
  },
  {
   "cell_type": "code",
   "execution_count": 31,
   "id": "8b3e84b6",
   "metadata": {},
   "outputs": [
    {
     "name": "stdout",
     "output_type": "stream",
     "text": [
      "Hello, Python!\n"
     ]
    }
   ],
   "source": [
    "# Replace a substring\n",
    "replaced_string = my_string.replace(\"World\", \"Python\")\n",
    "print(replaced_string)  # Output: Hello, Python!"
   ]
  },
  {
   "cell_type": "code",
   "execution_count": 34,
   "id": "bc0f9af8",
   "metadata": {},
   "outputs": [
    {
     "name": "stdout",
     "output_type": "stream",
     "text": [
      "7\n"
     ]
    }
   ],
   "source": [
    "# Finding the index of a character in the string; find() method\n",
    "find_index = my_string.find('W')\n",
    "print(find_index)  # Output: 7 (index of 'W' in \"Hello, World!\")"
   ]
  },
  {
   "cell_type": "code",
   "execution_count": 50,
   "id": "3099831e",
   "metadata": {},
   "outputs": [
    {
     "name": "stdout",
     "output_type": "stream",
     "text": [
      "['Hello,', 'World!']\n",
      "['Hello', 'World!']\n"
     ]
    }
   ],
   "source": [
    "# Splitting a string into a list of substrings; split() method\n",
    "split_string = my_string.split() # Splits on whitespace by default\n",
    "print(split_string)  # Output: ['Hello', 'World!']\n",
    "\n",
    "split_string_comma_space = my_string.split(', ')  # Splits on comma and space\n",
    "print(split_string_comma_space)  # Output: ['Hello', ' World!']\n"
   ]
  },
  {
   "cell_type": "code",
   "execution_count": 52,
   "id": "7ee66772",
   "metadata": {},
   "outputs": [
    {
     "data": {
      "text/plain": [
       "['This is a multi-line string.',\n",
       " 'It can span multiple lines.',\n",
       " 'And can include \\'single\\' and \"double\" quotes.']"
      ]
     },
     "execution_count": 52,
     "metadata": {},
     "output_type": "execute_result"
    }
   ],
   "source": [
    "# Splitline splits a string into a list at line breaks\n",
    "\n",
    "multi_line_string = \"\"\"This is a multi-line string.\n",
    "It can span multiple lines.\n",
    "And can include 'single' and \"double\" quotes.\"\"\"\n",
    "\n",
    "multi_line_string.splitlines()  # Splits at line breaks"
   ]
  },
  {
   "cell_type": "code",
   "execution_count": 54,
   "id": "e7621179",
   "metadata": {},
   "outputs": [
    {
     "name": "stdout",
     "output_type": "stream",
     "text": [
      "   Hello, World!   \n",
      "Hello, World!\n",
      "Hello, World!   \n",
      "   Hello, World!\n"
     ]
    }
   ],
   "source": [
    "# Strping whitespace from the beginning and end of a string; strip() method\n",
    "whitespace_string = \"   Hello, World!   \"\n",
    "print(whitespace_string)  # Output: \"   Hello, World!   \"\n",
    "\n",
    "stripped_string = whitespace_string.strip()\n",
    "print(stripped_string)  # Output: Hello, World!\n",
    "\n",
    "# Stripping only leading whitespace; lstrip() method\n",
    "lstripped_string = whitespace_string.lstrip()\n",
    "print(lstripped_string)  # Output: \"Hello, World!   \"\n",
    "\n",
    "# Stripping only trailing whitespace; rstrip() method\n",
    "rstripped_string = whitespace_string.rstrip()\n",
    "print(rstripped_string)  # Output: \"   Hello, World!\""
   ]
  },
  {
   "cell_type": "code",
   "execution_count": 70,
   "id": "bced3452",
   "metadata": {},
   "outputs": [
    {
     "name": "stdout",
     "output_type": "stream",
     "text": [
      "_hello_\n"
     ]
    }
   ],
   "source": [
    "# Strip specific characters from the beginning and end of a string; strip() method\n",
    "# This will remove the specified characters from both ends of the string.\n",
    "a = \"ZABCe_hello_ABCdz\"\n",
    "print(a.strip(\"ABCdeZz\"))  # Output: hello"
   ]
  },
  {
   "cell_type": "code",
   "execution_count": 76,
   "id": "34d137ae",
   "metadata": {},
   "outputs": [
    {
     "data": {
      "text/plain": [
       "'RakeshMen'"
      ]
     },
     "execution_count": 76,
     "metadata": {},
     "output_type": "execute_result"
    }
   ],
   "source": [
    "# Use of the + operator to concatenate strings\n",
    "\"Rakesh\" + \"Men\""
   ]
  },
  {
   "cell_type": "code",
   "execution_count": 75,
   "id": "6892a061",
   "metadata": {},
   "outputs": [
    {
     "name": "stdout",
     "output_type": "stream",
     "text": [
      "Hello World from Python\n",
      "Hello, World, from, Python\n",
      "Hello-World-from-Python\n"
     ]
    }
   ],
   "source": [
    "# joining a list of strings into a single string; join() method\n",
    "list_of_strings = [\"Hello\", \"World\", \"from\", \"Python\"]\n",
    "\n",
    "# Joining with a space\n",
    "joined_string = \" \".join(list_of_strings)\n",
    "print(joined_string)  # Output: Hello World from Python\n",
    "\n",
    "# Joining with a different separator\n",
    "joined_string_comma = \", \".join(list_of_strings)\n",
    "print(joined_string_comma)  # Output: Hello, World, from, Python\n",
    "\n",
    "# Joining with a hyphen\n",
    "joined_string_hyphen = \"-\".join(list_of_strings)\n",
    "print(joined_string_hyphen)  # Output: Hello-World-from-Python"
   ]
  },
  {
   "cell_type": "code",
   "execution_count": 78,
   "id": "07956f9e",
   "metadata": {},
   "outputs": [
    {
     "name": "stdout",
     "output_type": "stream",
     "text": [
      "My name is Alice and I am 30 years old.\n"
     ]
    }
   ],
   "source": [
    "# Formatting strings with placeholders\n",
    "name = \"Alice\"\n",
    "age = 30\n",
    "# Using f-strings (Python 3.6+)\n",
    "formatted_string_f = f\"My name is {name} and I am {age} years old.\"\n",
    "print(formatted_string_f)  # Output: My name is Alice and I am 30 years old."
   ]
  },
  {
   "cell_type": "markdown",
   "id": "37e98df0",
   "metadata": {},
   "source": [
    "##### List, tuple, and string is ordered collections, meaning the order of elements is preserved. This means that the elements will always be in the same order unless explicitly changed. This is useful for maintaining the sequence of items, especially when iterating over them or accessing specific elements by index or have some sense of ordering."
   ]
  }
 ],
 "metadata": {
  "kernelspec": {
   "display_name": "venvpyyt",
   "language": "python",
   "name": "python3"
  },
  "language_info": {
   "codemirror_mode": {
    "name": "ipython",
    "version": 3
   },
   "file_extension": ".py",
   "mimetype": "text/x-python",
   "name": "python",
   "nbconvert_exporter": "python",
   "pygments_lexer": "ipython3",
   "version": "3.13.3"
  }
 },
 "nbformat": 4,
 "nbformat_minor": 5
}
