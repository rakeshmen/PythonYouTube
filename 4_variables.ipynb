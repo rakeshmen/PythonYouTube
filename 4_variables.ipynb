{
 "cells": [
  {
   "cell_type": "code",
   "execution_count": 7,
   "id": "eb129800",
   "metadata": {},
   "outputs": [],
   "source": [
    "# Variables\n",
    "# Variables are used to store data values\n",
    "# Variables are created when you assign a value to it\n",
    "# Variable names must start with a letter or underscore\n",
    "# Variable names can only contain letters, numbers, or underscores\n",
    "# Variable names are case-sensitive\n",
    "# Variable names should be descriptive\n",
    "# Variable names should not be the same as Python keywords\n",
    "# Variable names should not contain spaces\n",
    "# Variable names should not start with a number\n",
    "# Variable names should not contain special characters\n",
    "# Variable names should not be the same as built-in functions\n",
    "# Variable names should not be the same as built-in exceptions\n",
    "# Variable names can be any length\n",
    "\n",
    "\n",
    "int_num = 100\n",
    "myname = 'Rakesh'\n",
    "value_of_pi = 3.14\n",
    "addition = 3+2"
   ]
  },
  {
   "cell_type": "code",
   "execution_count": 8,
   "id": "ba84e22e",
   "metadata": {},
   "outputs": [
    {
     "name": "stdout",
     "output_type": "stream",
     "text": [
      "100\n",
      "Rakesh\n",
      "3.14\n",
      "5\n"
     ]
    }
   ],
   "source": [
    "print(int_num)\n",
    "print(myname)\n",
    "print(value_of_pi)\n",
    "print(addition)"
   ]
  },
  {
   "cell_type": "code",
   "execution_count": 10,
   "id": "01000465",
   "metadata": {},
   "outputs": [
    {
     "name": "stdout",
     "output_type": "stream",
     "text": [
      "103.14\n"
     ]
    }
   ],
   "source": [
    "# addition of int_num and value_of_pi\n",
    "addition = int_num + value_of_pi\n",
    "print(addition)"
   ]
  },
  {
   "cell_type": "code",
   "execution_count": 12,
   "id": "31788444",
   "metadata": {},
   "outputs": [
    {
     "name": "stdout",
     "output_type": "stream",
     "text": [
      "1\n",
      "2\n",
      "3\n",
      "4\n"
     ]
    }
   ],
   "source": [
    "# assignment of 4 numbers at once\n",
    "a, b, c, d = 1, 2, 3, 4\n",
    "print(a)\n",
    "print(b)\n",
    "print(c)\n",
    "print(d)"
   ]
  },
  {
   "cell_type": "code",
   "execution_count": 13,
   "id": "323c4c2c",
   "metadata": {},
   "outputs": [
    {
     "name": "stdout",
     "output_type": "stream",
     "text": [
      "1\n",
      "2\n",
      "3\n",
      "4\n"
     ]
    }
   ],
   "source": [
    "# Using tuples to assign values\n",
    "a, b, c, d = (1, 2, 3, 4)\n",
    "print(a)\n",
    "print(b)\n",
    "print(c)\n",
    "print(d)"
   ]
  },
  {
   "cell_type": "code",
   "execution_count": 14,
   "id": "e7ea914d",
   "metadata": {},
   "outputs": [
    {
     "name": "stdout",
     "output_type": "stream",
     "text": [
      "1\n",
      "2\n",
      "2\n",
      "1\n"
     ]
    }
   ],
   "source": [
    "# Swapping variables\n",
    "a, b = 1, 2\n",
    "print(a)\n",
    "print(b)\n",
    "a, b = b, a\n",
    "print(a)\n",
    "print(b)"
   ]
  },
  {
   "cell_type": "code",
   "execution_count": 16,
   "id": "7572f22c",
   "metadata": {},
   "outputs": [
    {
     "name": "stdout",
     "output_type": "stream",
     "text": [
      "2\n",
      "1\n"
     ]
    }
   ],
   "source": [
    "(a, b) = (b, a)\n",
    "print(a)\n",
    "print(b)"
   ]
  },
  {
   "cell_type": "code",
   "execution_count": 19,
   "id": "f101acb3",
   "metadata": {},
   "outputs": [
    {
     "name": "stdout",
     "output_type": "stream",
     "text": [
      "3\n",
      "4\n"
     ]
    }
   ],
   "source": [
    "u = 1\n",
    "v = 2\n",
    "w = 3\n",
    "x = 4\n",
    "(u, v) = (w, x)\n",
    "print(u)\n",
    "print(v)"
   ]
  },
  {
   "cell_type": "code",
   "execution_count": 36,
   "id": "7daa984d",
   "metadata": {},
   "outputs": [
    {
     "name": "stdout",
     "output_type": "stream",
     "text": [
      "Rakesh\n",
      "RAKESH\n",
      "rakesh\n"
     ]
    }
   ],
   "source": [
    "# Example of variable assignment\n",
    "# Creating a variable and assigning it a value\n",
    "# Assigning the value of one variable to another\n",
    "# Here we are creating new assignment to the variable\n",
    "\n",
    "a = \"Rakesh\"\n",
    "b = a\n",
    "b = b.upper()\n",
    "c = a\n",
    "c = b.lower()\n",
    "print(a)\n",
    "print(b)\n",
    "print(c)"
   ]
  },
  {
   "cell_type": "code",
   "execution_count": 47,
   "id": "d3b58e51",
   "metadata": {},
   "outputs": [
    {
     "name": "stdout",
     "output_type": "stream",
     "text": [
      "[1, 2, 3, 4]\n",
      "None\n"
     ]
    }
   ],
   "source": [
    "# Mutabale data structures\n",
    "\n",
    "# List\n",
    "x = [1, 2, 3]\n",
    "y = x\n",
    "y = y.append(4)\n",
    "print(x)\n",
    "print(y)\n",
    "\n",
    "# Here x and y are pointing to the same list\n",
    "# So when we append 4 to y, it also gets appended to x.\n",
    "# This is because lists are mutable data structures.\n",
    "# So when we change the value of y, it also changes the value of x.\n",
    "# This is called aliasing."
   ]
  }
 ],
 "metadata": {
  "kernelspec": {
   "display_name": "venvpyyt",
   "language": "python",
   "name": "python3"
  },
  "language_info": {
   "codemirror_mode": {
    "name": "ipython",
    "version": 3
   },
   "file_extension": ".py",
   "mimetype": "text/x-python",
   "name": "python",
   "nbconvert_exporter": "python",
   "pygments_lexer": "ipython3",
   "version": "3.13.3"
  }
 },
 "nbformat": 4,
 "nbformat_minor": 5
}
