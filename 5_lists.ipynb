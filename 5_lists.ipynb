{
 "cells": [
  {
   "cell_type": "markdown",
   "id": "acedfe9d",
   "metadata": {},
   "source": [
    "# Lists in Python"
   ]
  },
  {
   "cell_type": "code",
   "execution_count": 129,
   "id": "137637d5",
   "metadata": {},
   "outputs": [],
   "source": [
    "# Lists are mutable sequences, typically used to store collections of homogeneous items.\n",
    "# Lists are defined by enclosing the elements in square brackets [] by comma seperation.\n",
    "# Lists can contain elements of different types, including other lists.\n",
    "# Lists are heterogeneous, meaning that they can contain elements of different types.\n",
    "# Lists can contain any type of object, including numbers, strings, and other lists.\n",
    "# Lists can be empty, meaning that they can contain no elements.\n",
    "# Lists are ordered, meaning that the items have a defined order, and that order will not change unless you explicitly do so.\n",
    "# Lists are mutable, meaning that you can change their content without changing their identity.\n",
    "# Lists can contain duplicate elements.\n",
    "# Lists are dynamic, meaning that they can grow and shrink in size as needed.\n",
    "# Lists are iterable, meaning that you can loop through the elements in a list.\n",
    "# Lists are indexed, meaning that you can access elements by their position in the list.\n",
    "# Lists are zero-indexed, meaning that the first element has an index of 0.\n",
    "# Lists can be nested, meaning that you can have lists within lists.\n",
    "# Lists can be sliced, meaning that you can access a range of elements in the list.\n",
    "# Lists can be concatenated, meaning that you can combine two or more lists into one.\n",
    "# Lists can be repeated, meaning that you can create a new list by repeating an existing list a certain number of times.\n",
    "# Lists can be sorted, meaning that you can arrange the elements in a specific order.\n",
    "# Lists can be reversed, meaning that you can change the order of the elements in the list.\n",
    "# Lists can be copied, meaning that you can create a new list that is a copy of an existing list.\n",
    "# Lists can be cleared, meaning that you can remove all elements from a list.\n",
    "# Lists can be extended, meaning that you can add elements from another list to an existing list.\n",
    "# Lists can be counted, meaning that you can count the number of occurrences of a specific element in a list.\n",
    "# Lists can be found, meaning that you can find the index of the first occurrence of a specific element in a list.\n",
    "# Lists can be removed, meaning that you can remove a specific element from a list.\n",
    "# Lists can be inserted, meaning that you can insert an element at a specific position in a list.\n",
    "# Lists can be popped, meaning that you can remove and return an element from a specific position in a list."
   ]
  },
  {
   "cell_type": "code",
   "execution_count": 130,
   "id": "6eab0170",
   "metadata": {},
   "outputs": [
    {
     "name": "stdout",
     "output_type": "stream",
     "text": [
      "[1, 2, 3, 4]\n",
      "None\n"
     ]
    }
   ],
   "source": [
    "# Mutabale data structures\n",
    "\n",
    "# List\n",
    "x = [1, 2, 3]\n",
    "y = x\n",
    "y = y.append(4)\n",
    "print(x)\n",
    "print(y)\n",
    "\n",
    "# Here x and y are pointing to the same list\n",
    "# So when we append 4 to y, it also gets appended to x.\n",
    "# This is because lists are mutable data structures.\n",
    "# So when we change the value of y, it also changes the value of x.\n",
    "# This is called aliasing."
   ]
  },
  {
   "cell_type": "code",
   "execution_count": 131,
   "id": "9f6cbf10",
   "metadata": {},
   "outputs": [
    {
     "name": "stdout",
     "output_type": "stream",
     "text": [
      "[1, 2, 3, 4, 5]\n"
     ]
    }
   ],
   "source": [
    "my_list = [1, 2, 3, 4, 5]\n",
    "print(my_list)  # Output: [1, 2, 3, 4, 5]"
   ]
  },
  {
   "cell_type": "code",
   "execution_count": 132,
   "id": "c44bf2b9",
   "metadata": {},
   "outputs": [
    {
     "name": "stdout",
     "output_type": "stream",
     "text": [
      "[1, 2, 3, 4, 5, 'Rakesh', 6.7, True, [1, 2, 3]]\n"
     ]
    }
   ],
   "source": [
    "my_list = [1, 2, 3, 4, 5, 'Rakesh', 6.7, True, [1, 2, 3]]\n",
    "print(my_list)  # Output: [1, 2, 3, 4, 5, 'Rakesh', 6.7, True, [1, 2, 3]]"
   ]
  },
  {
   "cell_type": "code",
   "execution_count": 133,
   "id": "a04b7977",
   "metadata": {},
   "outputs": [
    {
     "name": "stdout",
     "output_type": "stream",
     "text": [
      "[1, 2, 3, 4, 5, 'Rakesh', 6.7, True, [1, 2, 3]]\n",
      "[1, 2, 3, 4, 5, 6, 7, 8, 9]\n",
      "['m', 'y', '_', 'l', 'i', 's', 't']\n"
     ]
    }
   ],
   "source": [
    "my_iterable_list1 = list(my_list)\n",
    "print(my_iterable_list1)  # Output: [1, 2, 3, 4, 5, 'Rakesh', 6.7, True, [1, 2, 3]]\n",
    "\n",
    "my_iterable_list2 = list(range(1, 10))\n",
    "print(my_iterable_list2)  # Output: [1, 2, 3, 4, 5, 6, 7, 8, 9]\n",
    "\n",
    "my_iterable_list3 = list('my_list')\n",
    "print(my_iterable_list3)  # Output: ['m', 'y', '_', 'l', 'i', 's', 't']\n",
    "\n"
   ]
  },
  {
   "cell_type": "code",
   "execution_count": 134,
   "id": "8c3dc797",
   "metadata": {},
   "outputs": [
    {
     "name": "stdout",
     "output_type": "stream",
     "text": [
      "[]\n"
     ]
    }
   ],
   "source": [
    "# Empty list\n",
    "my_empty_list = []\n",
    "print(my_empty_list)  # Output: []"
   ]
  },
  {
   "cell_type": "code",
   "execution_count": 135,
   "id": "aee70416",
   "metadata": {},
   "outputs": [
    {
     "name": "stdout",
     "output_type": "stream",
     "text": [
      "[1, 2, 1]\n"
     ]
    }
   ],
   "source": [
    "# Add elements to the list\n",
    "my_empty_list.append(1)\n",
    "my_empty_list.append(2)\n",
    "my_empty_list.append(1)\n",
    "print(my_empty_list)  # Output: [1, 2]"
   ]
  },
  {
   "cell_type": "code",
   "execution_count": 136,
   "id": "e5aadeca",
   "metadata": {},
   "outputs": [
    {
     "name": "stdout",
     "output_type": "stream",
     "text": [
      "[1, 2, 1, 'Rakesh']\n"
     ]
    }
   ],
   "source": [
    "my_empty_list.append('Rakesh')\n",
    "print(my_empty_list)  # Output: [1, 2, 'Rakesh']"
   ]
  },
  {
   "cell_type": "code",
   "execution_count": 137,
   "id": "df13031e",
   "metadata": {},
   "outputs": [
    {
     "name": "stdout",
     "output_type": "stream",
     "text": [
      "[2, 1, 'Rakesh']\n"
     ]
    }
   ],
   "source": [
    "# Remove matching elements from the list\n",
    "# The remove() method removes the first occurrence of a value from the list.\n",
    "# If the value is not found, a ValueError is raised.\n",
    "my_empty_list.remove(1)\n",
    "print(my_empty_list)  # Output: [2, 'Rakesh']"
   ]
  },
  {
   "cell_type": "code",
   "execution_count": 138,
   "id": "69fae7b4",
   "metadata": {},
   "outputs": [
    {
     "name": "stdout",
     "output_type": "stream",
     "text": [
      "[2, 1, 'Rakesh']\n"
     ]
    }
   ],
   "source": [
    "print(my_empty_list)"
   ]
  },
  {
   "cell_type": "code",
   "execution_count": 139,
   "id": "30eb3689",
   "metadata": {},
   "outputs": [
    {
     "name": "stdout",
     "output_type": "stream",
     "text": [
      "[2, 1]\n"
     ]
    }
   ],
   "source": [
    "my_empty_list.remove('Rakesh')\n",
    "print(my_empty_list)  # Output: [2]"
   ]
  },
  {
   "cell_type": "markdown",
   "id": "6b78c756",
   "metadata": {},
   "source": [
    "#### Combining lists\n",
    "##### The + operator can be used to concatenate two or more lists.\n",
    "##### The * operator can be used to repeat a list a certain number of times.\n",
    "##### The + operator creates a new list that is the result of concatenating the two lists.\n",
    "##### The * operator creates a new list that is the result of repeating the list a certain number of times."
   ]
  },
  {
   "cell_type": "code",
   "execution_count": 140,
   "id": "1fb9e4c9",
   "metadata": {},
   "outputs": [
    {
     "name": "stdout",
     "output_type": "stream",
     "text": [
      "[1, 2, 3, 4, 5, 6]\n"
     ]
    }
   ],
   "source": [
    "list1 = [1, 2, 3]\n",
    "list2 = [4, 5, 6]\n",
    "\n",
    "# Concatenate two lists\n",
    "list3 = list1 + list2\n",
    "print(list3)  # Output: [1, 2, 3, 4, 5, 6]"
   ]
  },
  {
   "cell_type": "code",
   "execution_count": 141,
   "id": "be525f67",
   "metadata": {},
   "outputs": [
    {
     "name": "stdout",
     "output_type": "stream",
     "text": [
      "[1, 2, 3, 1, 2, 3]\n"
     ]
    }
   ],
   "source": [
    "list4 = list1 * 2\n",
    "print(list4)  # Output: [1, 2, 3, 1, 2, 3]"
   ]
  },
  {
   "cell_type": "code",
   "execution_count": 142,
   "id": "fcee11f4",
   "metadata": {},
   "outputs": [
    {
     "data": {
      "text/plain": [
       "list"
      ]
     },
     "execution_count": 142,
     "metadata": {},
     "output_type": "execute_result"
    }
   ],
   "source": [
    "type(list1)  # Output: <class 'list'>"
   ]
  },
  {
   "cell_type": "code",
   "execution_count": 143,
   "id": "05aedbc8",
   "metadata": {},
   "outputs": [
    {
     "name": "stdout",
     "output_type": "stream",
     "text": [
      "[1, 2, 3, 4, 5, 6]\n"
     ]
    }
   ],
   "source": [
    "# add sequence of elements to the list\n",
    "list1.extend(list2)\n",
    "print(list1)  # Output: [1, 2, 3, 4, 5, 6]"
   ]
  },
  {
   "cell_type": "code",
   "execution_count": 144,
   "id": "d1e110d5",
   "metadata": {},
   "outputs": [
    {
     "name": "stdout",
     "output_type": "stream",
     "text": [
      "[1, 2, 3, 4, 5, 6, 4, 5, 6]\n"
     ]
    }
   ],
   "source": [
    "list1.extend(list2)\n",
    "print(list1)"
   ]
  },
  {
   "cell_type": "code",
   "execution_count": 145,
   "id": "8580ea78",
   "metadata": {},
   "outputs": [
    {
     "name": "stdout",
     "output_type": "stream",
     "text": [
      "[2, 4, 6, 8, 10]\n"
     ]
    }
   ],
   "source": [
    "# List comprehension\n",
    "# List comprehension is a concise way to create lists in Python.\n",
    "# It consists of brackets containing an expression followed by a for clause, then zero or more for or if clauses.\n",
    "# The expressions can be anything, meaning you can put all kinds of objects in lists.\n",
    "# The result will be a new list resulting from evaluating the expression in the context of the for and if clauses which follow it.\n",
    "# List comprehension is more compact and faster than the traditional for loop.\n",
    "# List comprehension is a way to create a new list by applying an expression to each item in an existing iterable (like a list, tuple, or string).\n",
    "# List comprehension is a more concise way to create lists in Python.\n",
    "list1 = [1, 2, 3, 4, 5]\n",
    "list2 = [x * 2 for x in list1]\n",
    "print(list2)  # Output: [2, 4, 6, 8, 10]"
   ]
  },
  {
   "cell_type": "code",
   "execution_count": 146,
   "id": "6a0fa3b8",
   "metadata": {},
   "outputs": [
    {
     "name": "stdout",
     "output_type": "stream",
     "text": [
      "[0, 1, 4, 9, 16, 25, 36, 49, 64, 81]\n"
     ]
    }
   ],
   "source": [
    "list5 = [x**2 for x in range(10)]\n",
    "print(list5)  # Output: [0, 1, 4, 9, 16, 25, 36, 49, 64, 81]"
   ]
  },
  {
   "cell_type": "code",
   "execution_count": 198,
   "id": "59c346f7",
   "metadata": {},
   "outputs": [
    {
     "data": {
      "text/plain": [
       "10"
      ]
     },
     "execution_count": 198,
     "metadata": {},
     "output_type": "execute_result"
    }
   ],
   "source": [
    "len(list5)  # Output: 10\n",
    "# The len() function returns the number of items in an object."
   ]
  },
  {
   "cell_type": "code",
   "execution_count": 148,
   "id": "d61c4bf4",
   "metadata": {},
   "outputs": [
    {
     "data": {
      "text/plain": [
       "81"
      ]
     },
     "execution_count": 148,
     "metadata": {},
     "output_type": "execute_result"
    }
   ],
   "source": [
    "max(list5)  # Output: 81\n",
    "# The max() function returns the largest item in an iterable or the largest of two or more arguments."
   ]
  },
  {
   "cell_type": "code",
   "execution_count": 149,
   "id": "66b68ac2",
   "metadata": {},
   "outputs": [
    {
     "data": {
      "text/plain": [
       "1"
      ]
     },
     "execution_count": 149,
     "metadata": {},
     "output_type": "execute_result"
    }
   ],
   "source": [
    "min(list1)  # Output: 1\n",
    "# The min() function returns the smallest item in an iterable or the smallest of two or more arguments."
   ]
  },
  {
   "cell_type": "code",
   "execution_count": null,
   "id": "20a71269",
   "metadata": {},
   "outputs": [
    {
     "data": {
      "text/plain": [
       "15"
      ]
     },
     "execution_count": 150,
     "metadata": {},
     "output_type": "execute_result"
    }
   ],
   "source": [
    "sum(list1)  # Output: 15\n",
    "# The sum() function returns the sum of a start value (default: 0) plus an iterable of numbers."
   ]
  },
  {
   "cell_type": "code",
   "execution_count": 151,
   "id": "ecdc2b3e",
   "metadata": {},
   "outputs": [
    {
     "data": {
      "text/plain": [
       "3.0"
      ]
     },
     "execution_count": 151,
     "metadata": {},
     "output_type": "execute_result"
    }
   ],
   "source": [
    "sum(list1)/len(list1)  # Output: 3.0\n",
    "# The average of the list is calculated by dividing the sum of the list by the length of the list."
   ]
  },
  {
   "cell_type": "code",
   "execution_count": 152,
   "id": "509a7e24",
   "metadata": {},
   "outputs": [
    {
     "name": "stdout",
     "output_type": "stream",
     "text": [
      "True\n"
     ]
    }
   ],
   "source": [
    "# Check if an element is in the list\n",
    "print(1 in list1)  # Output: True"
   ]
  },
  {
   "cell_type": "code",
   "execution_count": 153,
   "id": "3a5d8126",
   "metadata": {},
   "outputs": [
    {
     "data": {
      "text/plain": [
       "False"
      ]
     },
     "execution_count": 153,
     "metadata": {},
     "output_type": "execute_result"
    }
   ],
   "source": [
    "1 not in list1  # Output: True"
   ]
  },
  {
   "cell_type": "code",
   "execution_count": 154,
   "id": "d12c78ef",
   "metadata": {},
   "outputs": [
    {
     "name": "stdout",
     "output_type": "stream",
     "text": [
      "1\n"
     ]
    }
   ],
   "source": [
    "# Another way to check if an element is in the list\n",
    "print(list1.count(1))  # Output: 1\n",
    "# The count() method returns the number of occurrences of a value in a list."
   ]
  },
  {
   "cell_type": "code",
   "execution_count": 155,
   "id": "e01f9d7d",
   "metadata": {},
   "outputs": [
    {
     "data": {
      "text/plain": [
       "True"
      ]
     },
     "execution_count": 155,
     "metadata": {},
     "output_type": "execute_result"
    }
   ],
   "source": [
    "1 in list1  # Output: True\n",
    "# The in operator returns True if the value is found in the list, and False otherwise."
   ]
  },
  {
   "cell_type": "code",
   "execution_count": 156,
   "id": "9e6538f2",
   "metadata": {},
   "outputs": [
    {
     "data": {
      "text/plain": [
       "False"
      ]
     },
     "execution_count": 156,
     "metadata": {},
     "output_type": "execute_result"
    }
   ],
   "source": [
    "1 not in list1  # Output: False\n",
    "# The not in operator returns True if the value is not found in the list, and False otherwise."
   ]
  },
  {
   "cell_type": "code",
   "execution_count": 157,
   "id": "f2ad3e62",
   "metadata": {},
   "outputs": [
    {
     "data": {
      "text/plain": [
       "1"
      ]
     },
     "execution_count": 157,
     "metadata": {},
     "output_type": "execute_result"
    }
   ],
   "source": [
    "list1.count(2)  # Output: 1\n",
    "# The count() method returns the number of occurrences of a value in a list."
   ]
  },
  {
   "cell_type": "code",
   "execution_count": 158,
   "id": "c6648708",
   "metadata": {},
   "outputs": [],
   "source": [
    "list1 = [10, 2, 3, 4, 5, 99,6, 7, 8, 9, 10]"
   ]
  },
  {
   "cell_type": "code",
   "execution_count": 159,
   "id": "e934a9bf",
   "metadata": {},
   "outputs": [
    {
     "name": "stdout",
     "output_type": "stream",
     "text": [
      "[2, 3, 4, 5, 6, 7, 8, 9, 10, 10, 99]\n"
     ]
    }
   ],
   "source": [
    "list1.sort()\n",
    "print(list1) "
   ]
  },
  {
   "cell_type": "code",
   "execution_count": 160,
   "id": "5b47062b",
   "metadata": {},
   "outputs": [
    {
     "name": "stdout",
     "output_type": "stream",
     "text": [
      "[99, 10, 10, 9, 8, 7, 6, 5, 4, 3, 2]\n"
     ]
    }
   ],
   "source": [
    "list1.reverse()\n",
    "print(list1)  # Output: [10, 10, 99, 9, 8, 7, 6, 5, 4, 3, 2]"
   ]
  },
  {
   "cell_type": "code",
   "execution_count": 161,
   "id": "de27a0df",
   "metadata": {},
   "outputs": [
    {
     "name": "stdout",
     "output_type": "stream",
     "text": [
      "[2, 3, 4, 5, 6, 7, 8, 9, 10, 10, 99]\n"
     ]
    }
   ],
   "source": [
    "#sorting the list in ascending order\n",
    "list1.sort()\n",
    "print(list1)  # Output: [2, 3, 4, 5, 6, 7, 8, 9, 10, 10, 99]"
   ]
  },
  {
   "cell_type": "code",
   "execution_count": 162,
   "id": "c80d18bc",
   "metadata": {},
   "outputs": [
    {
     "name": "stdout",
     "output_type": "stream",
     "text": [
      "[55, 33, 9, 5, 3, 2, 1, 1, 0]\n"
     ]
    }
   ],
   "source": [
    "# Sorting the list in descending order\n",
    "list1 = [55,1,2,3,5,9,33,1,0]\n",
    "list1.sort(reverse=True)\n",
    "print(list1)  # Output: [99, 10, 10, 9, 8, 7, 6, 5, 4, 3, 2]\n",
    "# Sorting the list in ascending order"
   ]
  },
  {
   "cell_type": "code",
   "execution_count": 163,
   "id": "619679ea",
   "metadata": {},
   "outputs": [],
   "source": [
    "countries = [\"India\", \"Pakistan\", \"Bangladesh\", \"Nepal\", \"Bhutan\", \"Sri Lanka\"]"
   ]
  },
  {
   "cell_type": "code",
   "execution_count": 164,
   "id": "80b71d25",
   "metadata": {},
   "outputs": [
    {
     "name": "stdout",
     "output_type": "stream",
     "text": [
      "India\n",
      "Pakistan\n"
     ]
    }
   ],
   "source": [
    "# Accessing elements in a list\n",
    "# Indexing starts from 0\n",
    "print(countries[0])  # Output: India\n",
    "print(countries[1])  # Output: Pakistan"
   ]
  },
  {
   "cell_type": "code",
   "execution_count": 165,
   "id": "b98f302f",
   "metadata": {},
   "outputs": [
    {
     "data": {
      "text/plain": [
       "'Bangladesh'"
      ]
     },
     "execution_count": 165,
     "metadata": {},
     "output_type": "execute_result"
    }
   ],
   "source": [
    "countries[2]"
   ]
  },
  {
   "cell_type": "code",
   "execution_count": 166,
   "id": "995536c9",
   "metadata": {},
   "outputs": [
    {
     "data": {
      "text/plain": [
       "'Sri Lanka'"
      ]
     },
     "execution_count": 166,
     "metadata": {},
     "output_type": "execute_result"
    }
   ],
   "source": [
    "countries[5]"
   ]
  },
  {
   "cell_type": "code",
   "execution_count": 167,
   "id": "7bd8e6f3",
   "metadata": {},
   "outputs": [
    {
     "name": "stdout",
     "output_type": "stream",
     "text": [
      "Sri Lanka\n"
     ]
    }
   ],
   "source": [
    "# Giving negative index\n",
    "# Negative indexing starts from -1\n",
    "print(countries[-1])  # Output: Sri Lanka"
   ]
  },
  {
   "cell_type": "code",
   "execution_count": 168,
   "id": "f3aa3730",
   "metadata": {},
   "outputs": [
    {
     "data": {
      "text/plain": [
       "'Bhutan'"
      ]
     },
     "execution_count": 168,
     "metadata": {},
     "output_type": "execute_result"
    }
   ],
   "source": [
    "countries[-2]"
   ]
  },
  {
   "cell_type": "code",
   "execution_count": 169,
   "id": "8b04e589",
   "metadata": {},
   "outputs": [
    {
     "name": "stdout",
     "output_type": "stream",
     "text": [
      "[4, 5, 6]\n",
      "5\n"
     ]
    }
   ],
   "source": [
    "nested_list = [1, 2, 3, [4, 5, 6], 7, 8]\n",
    "print(nested_list[3])  # Output: [4, 5, 6]\n",
    "print(nested_list[3][1])  # Output: 5"
   ]
  },
  {
   "cell_type": "code",
   "execution_count": 170,
   "id": "48926140",
   "metadata": {},
   "outputs": [
    {
     "data": {
      "text/plain": [
       "4"
      ]
     },
     "execution_count": 170,
     "metadata": {},
     "output_type": "execute_result"
    }
   ],
   "source": [
    "nested_list[3][0]"
   ]
  },
  {
   "cell_type": "code",
   "execution_count": 171,
   "id": "1171a63f",
   "metadata": {},
   "outputs": [
    {
     "name": "stdout",
     "output_type": "stream",
     "text": [
      "[1, 2, 3]\n"
     ]
    }
   ],
   "source": [
    "nested_list1 = [[1,2,3],[4,5,6],[7,8,9]]\n",
    "print(nested_list1[0])  # Output: [1, 2, 3]"
   ]
  },
  {
   "cell_type": "code",
   "execution_count": 172,
   "id": "dc64c438",
   "metadata": {},
   "outputs": [
    {
     "name": "stdout",
     "output_type": "stream",
     "text": [
      "3\n"
     ]
    }
   ],
   "source": [
    "print(nested_list1[0][2])"
   ]
  },
  {
   "cell_type": "code",
   "execution_count": 173,
   "id": "b9331156",
   "metadata": {},
   "outputs": [
    {
     "name": "stdout",
     "output_type": "stream",
     "text": [
      "8\n"
     ]
    }
   ],
   "source": [
    "print(nested_list1[2][1])"
   ]
  },
  {
   "cell_type": "code",
   "execution_count": 174,
   "id": "645705b9",
   "metadata": {},
   "outputs": [
    {
     "name": "stdout",
     "output_type": "stream",
     "text": [
      "2 4 9\n"
     ]
    }
   ],
   "source": [
    "print(nested_list1[0][1], nested_list1[1][0], nested_list1[2][2])"
   ]
  },
  {
   "cell_type": "code",
   "execution_count": 175,
   "id": "1b928969",
   "metadata": {},
   "outputs": [],
   "source": [
    "# Slicing a list\n",
    "# Slicing is a way to access a range of elements in a list.\n",
    "# Slicing is done by specifying a start index and an end index.\n",
    "# The start index is inclusive, and the end index is exclusive.\n",
    "# The slice() method returns a shallow copy of the specified range of elements in the list.\n",
    "# The slice() method returns a new list containing the specified range of elements.\n",
    "# The slice() method does not modify the original list.\n",
    "# The slice() method can take up to three arguments: start, stop, and step.\n",
    "# The start argument is the index of the first element to include in the slice.\n",
    "# The stop argument is the index of the first element to exclude from the slice.\n",
    "# The step argument is the number of elements to skip between each element in the slice.\n",
    "# The step argument is optional and defaults to 1.\n",
    "# The slice() method can also be used to create a new list from an existing list."
   ]
  },
  {
   "cell_type": "code",
   "execution_count": 176,
   "id": "23d4a0ae",
   "metadata": {},
   "outputs": [
    {
     "name": "stdout",
     "output_type": "stream",
     "text": [
      "[1, 2, 3, 4, 5]\n"
     ]
    }
   ],
   "source": [
    "list9 = [1, 2, 3, 4, 5, 6, 7, 8, 9, 10]\n",
    "print(list9[0:5])  # Output: [1, 2, 3, 4, 5]"
   ]
  },
  {
   "cell_type": "code",
   "execution_count": 177,
   "id": "759ca04d",
   "metadata": {},
   "outputs": [
    {
     "name": "stdout",
     "output_type": "stream",
     "text": [
      "[2, 3]\n"
     ]
    }
   ],
   "source": [
    "print(list9[1:3])  # Output: [2, 4]"
   ]
  },
  {
   "cell_type": "code",
   "execution_count": 178,
   "id": "65796dc9",
   "metadata": {},
   "outputs": [
    {
     "name": "stdout",
     "output_type": "stream",
     "text": [
      "[3, 4, 5]\n"
     ]
    }
   ],
   "source": [
    "print(list9[2:5])  # Output: [3, 4, 5]"
   ]
  },
  {
   "cell_type": "code",
   "execution_count": 179,
   "id": "e573b10b",
   "metadata": {},
   "outputs": [
    {
     "name": "stdout",
     "output_type": "stream",
     "text": [
      "[1, 2, 3, 4, 5, 6, 7, 8, 9, 10]\n"
     ]
    }
   ],
   "source": [
    "print(list9)"
   ]
  },
  {
   "cell_type": "code",
   "execution_count": 180,
   "id": "5f60c8ae",
   "metadata": {},
   "outputs": [
    {
     "name": "stdout",
     "output_type": "stream",
     "text": [
      "['c', 'd', 'e']\n"
     ]
    },
    {
     "data": {
      "text/plain": [
       "list"
      ]
     },
     "execution_count": 180,
     "metadata": {},
     "output_type": "execute_result"
    }
   ],
   "source": [
    "# Creating a new list from an existing list\n",
    "list1 = [\"a\", \"b\", \"c\", \"d\", \"e\", \"f\", \"g\", \"h\"]\n",
    "slice1 = list1[2:5]\n",
    "print(slice1)  # Output: ('c', 'd', 'e')\n",
    "type(slice1)  # Output: <class 'list'>"
   ]
  },
  {
   "cell_type": "code",
   "execution_count": 181,
   "id": "d973378e",
   "metadata": {},
   "outputs": [
    {
     "name": "stdout",
     "output_type": "stream",
     "text": [
      "['c', 'e', 'g']\n"
     ]
    }
   ],
   "source": [
    "# Step slicing\n",
    "# Step slicing is a way to access every nth element in a list.\n",
    "# Step slicing is done by specifying a start index, an end index, and a step size.\n",
    "\n",
    "# Default step size is 1\n",
    "# Step slicing with a step size of 2\n",
    "# Getting every second element in the list\n",
    "\n",
    "slice2 = list1[2:7:2]\n",
    "print(slice2)  # Output: ['c', 'e', 'g']"
   ]
  },
  {
   "cell_type": "code",
   "execution_count": 182,
   "id": "16546b49",
   "metadata": {},
   "outputs": [
    {
     "name": "stdout",
     "output_type": "stream",
     "text": [
      "['c', 'd', 'e', 'f', 'g', 'h']\n"
     ]
    }
   ],
   "source": [
    "# Slice up to the end of the list from a specific index\n",
    "slice3 = list1[2:]\n",
    "print(slice3)  # Output: ['c', 'd', 'e', 'f', 'g', 'h']"
   ]
  },
  {
   "cell_type": "code",
   "execution_count": 183,
   "id": "309694cb",
   "metadata": {},
   "outputs": [
    {
     "name": "stdout",
     "output_type": "stream",
     "text": [
      "['a', 'b', 'c', 'd', 'e']\n"
     ]
    }
   ],
   "source": [
    "# Slice up to 5th index from the beginning of the list\n",
    "slice4 = list1[:5]\n",
    "print(slice4)  # Output: ['a', 'b', 'c', 'd', 'e']"
   ]
  },
  {
   "cell_type": "code",
   "execution_count": 184,
   "id": "318c1df0",
   "metadata": {},
   "outputs": [
    {
     "name": "stdout",
     "output_type": "stream",
     "text": [
      "['h', 'g', 'f', 'e', 'd', 'c', 'b', 'a']\n"
     ]
    }
   ],
   "source": [
    "# Backward slicing\n",
    "# Backward slicing is a way to access elements in reverse order.\n",
    "# Backward slicing is done by specifying a start index, an end index, and a step size of -1.\n",
    "# Backward slicing with a step size of -1\n",
    "slice5 = list1[::-1]\n",
    "print(slice5)  # Output: ['h', 'g', 'f', 'e', 'd', 'c', 'b', 'a']"
   ]
  },
  {
   "cell_type": "code",
   "execution_count": 185,
   "id": "eee2b321",
   "metadata": {},
   "outputs": [
    {
     "name": "stdout",
     "output_type": "stream",
     "text": [
      "['a', 'b', 'c', 'd', 'e', 'f', 'g', 'h']\n",
      "['f', 'e', 'd']\n"
     ]
    }
   ],
   "source": [
    "slice6 = list1[5:2:-1]\n",
    "print(list1)\n",
    "print(slice6)  # Output: ['f', 'd', 'b']"
   ]
  },
  {
   "cell_type": "code",
   "execution_count": 186,
   "id": "16ecc0fe",
   "metadata": {},
   "outputs": [
    {
     "name": "stdout",
     "output_type": "stream",
     "text": [
      "['a', 'b', 'c', 'd', 'e', 'f', 'g', 'h']\n",
      "['h', 'g', 'f', 'e', 'd', 'c', 'b', 'a']\n"
     ]
    }
   ],
   "source": [
    "# Reverse a list by using slicing\n",
    "# No need to use the reverse() method\n",
    "# No need to provide start and end indices\n",
    "list7 = list1[::-1]\n",
    "print(list1)\n",
    "print(list7)"
   ]
  },
  {
   "cell_type": "code",
   "execution_count": 187,
   "id": "dea45132",
   "metadata": {},
   "outputs": [
    {
     "name": "stdout",
     "output_type": "stream",
     "text": [
      "[1, 2, 3, 4, 5, 'Geeta', 6.7, True, [1, 2, 3]]\n",
      "1\n",
      "['Shyam', 2, 3, 4, 5, 'Geeta', 6.7, True, [1, 2, 3]]\n",
      "[2, 3, 4, 5, 'Geeta', 6.7, True, [1, 2, 3]]\n"
     ]
    }
   ],
   "source": [
    "# Use indexing to access elements in a list and modify them\n",
    "list8 = [1, 2, 3, 4, 5, 'Geeta', 6.7, True, [1, 2, 3]]\n",
    "print(list8)\n",
    "\n",
    "# Accessing elements in a list\n",
    "print(list8[0])  # Output: 1\n",
    "\n",
    "# Modifying elements in a list\n",
    "list8[0] = 'Shyam'\n",
    "print(list8)\n",
    "\n",
    "# Deleting elements in a list\n",
    "del(list8[0])\n",
    "print(list8)"
   ]
  },
  {
   "cell_type": "code",
   "execution_count": 188,
   "id": "eedef75b",
   "metadata": {},
   "outputs": [
    {
     "name": "stdout",
     "output_type": "stream",
     "text": [
      "[2, 3, 4, 5, 'Geeta', 6.7, True, [1, 2, 3]]\n",
      "[1, 2, 3]\n"
     ]
    }
   ],
   "source": [
    "# list.pop() method\n",
    "# The pop() method removes and returns the last item in the list.\n",
    "# If an index is specified, the item at that index is removed and returned.\n",
    "print(list8)\n",
    "print(list8.pop())  # Output: [1, 2, 3]"
   ]
  },
  {
   "cell_type": "code",
   "execution_count": 189,
   "id": "04b2e7d9",
   "metadata": {},
   "outputs": [
    {
     "name": "stdout",
     "output_type": "stream",
     "text": [
      "[2, 3, 4, 5, 'Geeta', 6.7, True]\n",
      "[3, 4, 5, 'Geeta', 6.7, True]\n",
      "[]\n"
     ]
    }
   ],
   "source": [
    "print(list8)\n",
    "list8.pop(0)  # Removes the first element\n",
    "print(list8)  # Output: [2, 3, 4, 5, 'Geeta', 6.7, True]\n",
    "\n",
    "# list.clear() method\n",
    "# The clear() method removes all items from the list.\n",
    "list8.clear()\n",
    "print(list8)  # Output: []\n",
    "# The list is now empty\n",
    "# list.copy() method\n",
    "# The copy() method returns a shallow copy of the list.\n"
   ]
  },
  {
   "cell_type": "code",
   "execution_count": 190,
   "id": "056122ce",
   "metadata": {},
   "outputs": [
    {
     "name": "stdout",
     "output_type": "stream",
     "text": [
      "[1, 2, 3, 4]\n",
      "5\n",
      "[1, 2, 4, 5]\n",
      "3\n"
     ]
    }
   ],
   "source": [
    "# pop() method and get the last element in the list\n",
    "list9 = [1, 2, 3, 4, 5]\n",
    "list10 = list9.pop()\n",
    "print(list9)  # Output: [1, 2, 3, 4]\n",
    "print(list10)  # Output: 5\n",
    "\n",
    "# pop() method with an index\n",
    "list11 = [1, 2, 3, 4, 5]\n",
    "list12 = list11.pop(2)  # Removes the element at index 2\n",
    "print(list11)  # Output: [1, 2, 4, 5]\n",
    "print(list12)  # Output: 3\n"
   ]
  },
  {
   "cell_type": "code",
   "execution_count": null,
   "id": "66e81360",
   "metadata": {},
   "outputs": [
    {
     "name": "stdout",
     "output_type": "stream",
     "text": [
      "[1, 2, 3]\n",
      "[1, 2, 3432, 3]\n",
      "[2, 3432, 3]\n"
     ]
    }
   ],
   "source": [
    "list_123 = [1, 2, 3]\n",
    "print(list_123)  # Output: [1, 2, 3]\n",
    "\n",
    "list_123.insert(2, 3432) # At index 2 insert 3432\n",
    "print(list_123)  # Output: [1, 2, 3432, 3]\n",
    "\n",
    "list_123.remove(1) # Remove the first occurrence of 1\n",
    "print(list_123)  # Output: [2, 3432, 3]"
   ]
  },
  {
   "cell_type": "code",
   "execution_count": 191,
   "id": "1012474f",
   "metadata": {},
   "outputs": [],
   "source": [
    "# Appending and popping elements in list are common operations and can be done using the append() and pop() methods.\n",
    "# The append() method adds an item to the end of the list.\n",
    "# The pop() method removes and returns the last item in the list.\n",
    "# The append() and pop() methods are faster than using the insert() and remove() methods.\n",
    "# The insert() method inserts an item at a specified index in the list.\n",
    "# The remove() method removes the first occurrence of an item from the list.\n"
   ]
  },
  {
   "cell_type": "code",
   "execution_count": 192,
   "id": "e7fb21ce",
   "metadata": {},
   "outputs": [
    {
     "name": "stdout",
     "output_type": "stream",
     "text": [
      "[1, 2, 3, 4, 5]\n",
      "[1, 2, 3, 4, 5]\n",
      "[1, 2, 3, 4, 5, 6]\n",
      "[1, 2, 3, 4, 5]\n"
     ]
    }
   ],
   "source": [
    "# copy() method\n",
    "# The copy() method returns a shallow copy of the list.\n",
    "list13 = [1, 2, 3, 4, 5]\n",
    "list14 = list13.copy()\n",
    "print(list13)  # Output: [1, 2, 3, 4, 5]\n",
    "print(list14)  # Output: [1, 2, 3, 4, 5]\n",
    "\n",
    "list13.append(6)\n",
    "print(list13)  # Output: [1, 2, 3, 4, 5, 6]\n",
    "print(list14)  # Output: [1, 2, 3, 4, 5]"
   ]
  },
  {
   "cell_type": "code",
   "execution_count": 193,
   "id": "f4952439",
   "metadata": {},
   "outputs": [
    {
     "name": "stdout",
     "output_type": "stream",
     "text": [
      "[22, 23, 66, [1, 2, 3], 'Geeta', [4, 5, 6], 'Ram']\n",
      "[22, 23, 66, [1, 2, 3, 122], 'Geeta', [4, 5, 6], 'Ram']\n"
     ]
    }
   ],
   "source": [
    "# Nested lists and copying\n",
    "list15 = [22, 23, 66, [1, 2, 3], 'Geeta', [4, 5, 6], 'Ram']\n",
    "\n",
    "list16 = list15.copy()\n",
    "\n",
    "print(list16)\n",
    "\n",
    "list15[3].append(122) # Modifying the nested list in list15\n",
    "\n",
    "print(list16)\n",
    "\n",
    "# Thus the copy() method creates a shallow copy of the list, meaning that it copies the references to the nested lists,\n",
    "# not the nested lists themselves.\n",
    "# To create a deep copy of the list, you can use the copy module's deepcopy() function."
   ]
  },
  {
   "cell_type": "code",
   "execution_count": 194,
   "id": "62825332",
   "metadata": {},
   "outputs": [
    {
     "name": "stdout",
     "output_type": "stream",
     "text": [
      "[22, 23, 66, [1, 2, 3, 122], 'Geeta', [4, 5, 6], 'Ram']\n",
      "[22, 23, 66, [1, 2, 3, 122, 476], 'Geeta', [4, 5, 6], 'Ram']\n",
      "[22, 23, 66, [1, 2, 3, 122], 'Geeta', [4, 5, 6], 'Ram']\n"
     ]
    }
   ],
   "source": [
    "# deepcopy() function\n",
    "import copy # importing the copy module\n",
    "# The deepcopy() function creates a deep copy of the list, meaning that it copies the nested lists as well.\n",
    "\n",
    "list17 = copy.deepcopy(list15)\n",
    "print(list17)\n",
    "\n",
    "list15[3].append(476)  # Modifying the nested list in list15\n",
    "print(list15)\n",
    "print(list17)  # Output: [22, 23, 66, [1, 2, 3], 'Geeta', [4, 5, 6], 'Ram']\n",
    "# Thus the deepcopy() function creates a deep copy of the list, meaning that it copies the nested lists as well.\n",
    "# The original list remains unchanged when the nested list is modified in the original list."
   ]
  },
  {
   "cell_type": "markdown",
   "id": "3b098da6",
   "metadata": {},
   "source": [
    "<!-- # Most Used List Methods\n",
    "# list.append()\n",
    "# list.remove()\n",
    "# list_c = list_a + list_b\n",
    "# list_d = list_a * 3\n",
    "# list.sort()\n",
    "# list.reverse()\n",
    "# list.sort(reverse=True)\n",
    "# list.pop()\n",
    "# list.extend()\n",
    "# list.clear()\n",
    "# list.index()\n",
    "# list.count()\n",
    "# list.copy()\n",
    "# list.deepcopy()\n",
    "# list.insert() -->\n"
   ]
  },
  {
   "cell_type": "code",
   "execution_count": null,
   "id": "c0738272",
   "metadata": {},
   "outputs": [],
   "source": [
    "# list_c = list_a + list_b\n",
    "# list_d = list_a * 3\n",
    "# Most Used List Methods\n",
    "# list.append()\n",
    "# list.insert()\n",
    "# list.extend()\n",
    "# list.remove()\n",
    "# list.sort()\n",
    "# list.reverse()\n",
    "# list.sort(reverse=True)\n",
    "# list.pop()\n",
    "# list.clear()\n",
    "# list.index()\n",
    "# list.count()\n",
    "# list.copy()\n",
    "# list.deepcopy()\n"
   ]
  }
 ],
 "metadata": {
  "kernelspec": {
   "display_name": "venvpyyt",
   "language": "python",
   "name": "python3"
  },
  "language_info": {
   "codemirror_mode": {
    "name": "ipython",
    "version": 3
   },
   "file_extension": ".py",
   "mimetype": "text/x-python",
   "name": "python",
   "nbconvert_exporter": "python",
   "pygments_lexer": "ipython3",
   "version": "3.13.3"
  }
 },
 "nbformat": 4,
 "nbformat_minor": 5
}
