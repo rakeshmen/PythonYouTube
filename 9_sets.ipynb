{
 "cells": [
  {
   "cell_type": "markdown",
   "id": "ba7eb6b8",
   "metadata": {},
   "source": [
    "# Sets in Python"
   ]
  },
  {
   "cell_type": "code",
   "execution_count": 3,
   "id": "1d5732f6",
   "metadata": {},
   "outputs": [],
   "source": [
    "# Unordered, mutable collection of immutable objects.\n",
    "# Can not contain duplicates.\n",
    "# Used to store unique items.\n",
    "# Do not support indexing, slicing, or other sequence-like behavior. But supports min(), max(), len(), and in operator.\n",
    "# Created with curly braces just like dictionary or the set() constructor."
   ]
  },
  {
   "cell_type": "code",
   "execution_count": 4,
   "id": "92d0fd80",
   "metadata": {},
   "outputs": [],
   "source": [
    "my_set = {1, 2, 3, 4, 5}"
   ]
  },
  {
   "cell_type": "code",
   "execution_count": 5,
   "id": "864b9c4c",
   "metadata": {},
   "outputs": [
    {
     "data": {
      "text/plain": [
       "set"
      ]
     },
     "execution_count": 5,
     "metadata": {},
     "output_type": "execute_result"
    }
   ],
   "source": [
    "type(my_set)"
   ]
  },
  {
   "cell_type": "code",
   "execution_count": 6,
   "id": "7318a1f7",
   "metadata": {},
   "outputs": [],
   "source": [
    "# Adding items to a set\n",
    "my_set.add(191)"
   ]
  },
  {
   "cell_type": "code",
   "execution_count": 7,
   "id": "826829a1",
   "metadata": {},
   "outputs": [
    {
     "data": {
      "text/plain": [
       "{1, 2, 3, 4, 5, 191}"
      ]
     },
     "execution_count": 7,
     "metadata": {},
     "output_type": "execute_result"
    }
   ],
   "source": [
    "my_set"
   ]
  },
  {
   "cell_type": "code",
   "execution_count": 8,
   "id": "dceadd35",
   "metadata": {},
   "outputs": [],
   "source": [
    "# Removing items from a set\n",
    "my_set.remove(1)"
   ]
  },
  {
   "cell_type": "code",
   "execution_count": 9,
   "id": "125574f3",
   "metadata": {},
   "outputs": [
    {
     "data": {
      "text/plain": [
       "{2, 3, 4, 5, 191}"
      ]
     },
     "execution_count": 9,
     "metadata": {},
     "output_type": "execute_result"
    }
   ],
   "source": [
    "my_set"
   ]
  },
  {
   "cell_type": "code",
   "execution_count": 10,
   "id": "a57803d5",
   "metadata": {},
   "outputs": [
    {
     "data": {
      "text/plain": [
       "2"
      ]
     },
     "execution_count": 10,
     "metadata": {},
     "output_type": "execute_result"
    }
   ],
   "source": [
    "min(my_set)"
   ]
  },
  {
   "cell_type": "code",
   "execution_count": 11,
   "id": "e1cf8e2e",
   "metadata": {},
   "outputs": [
    {
     "data": {
      "text/plain": [
       "191"
      ]
     },
     "execution_count": 11,
     "metadata": {},
     "output_type": "execute_result"
    }
   ],
   "source": [
    "max(my_set)"
   ]
  },
  {
   "cell_type": "code",
   "execution_count": 12,
   "id": "226ac356",
   "metadata": {},
   "outputs": [
    {
     "data": {
      "text/plain": [
       "205"
      ]
     },
     "execution_count": 12,
     "metadata": {},
     "output_type": "execute_result"
    }
   ],
   "source": [
    "sum(my_set)"
   ]
  },
  {
   "cell_type": "code",
   "execution_count": 13,
   "id": "a802211a",
   "metadata": {},
   "outputs": [
    {
     "data": {
      "text/plain": [
       "True"
      ]
     },
     "execution_count": 13,
     "metadata": {},
     "output_type": "execute_result"
    }
   ],
   "source": [
    "2 in my_set"
   ]
  },
  {
   "cell_type": "code",
   "execution_count": 14,
   "id": "67f935f7",
   "metadata": {},
   "outputs": [
    {
     "data": {
      "text/plain": [
       "5"
      ]
     },
     "execution_count": 14,
     "metadata": {},
     "output_type": "execute_result"
    }
   ],
   "source": [
    "len(my_set)"
   ]
  },
  {
   "cell_type": "markdown",
   "id": "2f3a9301",
   "metadata": {},
   "source": [
    "##### Set Operations #####"
   ]
  },
  {
   "cell_type": "code",
   "execution_count": 15,
   "id": "4c352541",
   "metadata": {},
   "outputs": [
    {
     "data": {
      "text/plain": [
       "{1, 2, 3, 4, 5}"
      ]
     },
     "execution_count": 15,
     "metadata": {},
     "output_type": "execute_result"
    }
   ],
   "source": [
    "my_set1 = {1, 2, 3}\n",
    "my_set2 = {3, 4, 5}\n",
    "\n",
    "# union of two sets\n",
    "my_set1.union(my_set2)"
   ]
  },
  {
   "cell_type": "code",
   "execution_count": 16,
   "id": "4655b0d0",
   "metadata": {},
   "outputs": [
    {
     "data": {
      "text/plain": [
       "{3}"
      ]
     },
     "execution_count": 16,
     "metadata": {},
     "output_type": "execute_result"
    }
   ],
   "source": [
    "# intersection of two sets\n",
    "my_set1.intersection(my_set2)\n"
   ]
  },
  {
   "cell_type": "code",
   "execution_count": 17,
   "id": "5e3ee76d",
   "metadata": {},
   "outputs": [
    {
     "data": {
      "text/plain": [
       "{1, 2}"
      ]
     },
     "execution_count": 17,
     "metadata": {},
     "output_type": "execute_result"
    }
   ],
   "source": [
    "# difference of two sets\n",
    "my_set1.difference(my_set2)\n",
    "# returns elements in my_set1 that are not in my_set2"
   ]
  },
  {
   "cell_type": "code",
   "execution_count": 18,
   "id": "b9ee23bf",
   "metadata": {},
   "outputs": [
    {
     "data": {
      "text/plain": [
       "False"
      ]
     },
     "execution_count": 18,
     "metadata": {},
     "output_type": "execute_result"
    }
   ],
   "source": [
    "# subset of another set\n",
    "my_set1.issubset(my_set2)"
   ]
  },
  {
   "cell_type": "code",
   "execution_count": 19,
   "id": "ab7282b0",
   "metadata": {},
   "outputs": [
    {
     "data": {
      "text/plain": [
       "{1, 2, 3, 4, 5}"
      ]
     },
     "execution_count": 19,
     "metadata": {},
     "output_type": "execute_result"
    }
   ],
   "source": [
    "# Get unique items from a list\n",
    "my_list = [1, 2, 3, 4, 5, 1, 2, 3]\n",
    "my_unique_set = set(my_list)\n",
    "my_unique_set"
   ]
  },
  {
   "cell_type": "code",
   "execution_count": 20,
   "id": "25de276a",
   "metadata": {},
   "outputs": [
    {
     "data": {
      "text/plain": [
       "[1, 2, 3, 4, 5]"
      ]
     },
     "execution_count": 20,
     "metadata": {},
     "output_type": "execute_result"
    }
   ],
   "source": [
    "# Stripping out duplicates from a list\n",
    "my_list_duplicates = [1, 2, 3, 4, 5, 1, 2, 3]\n",
    "my_list_no_duplicates = list(set(my_list_duplicates))\n",
    "my_list_no_duplicates"
   ]
  }
 ],
 "metadata": {
  "kernelspec": {
   "display_name": "venvpyyt",
   "language": "python",
   "name": "python3"
  },
  "language_info": {
   "codemirror_mode": {
    "name": "ipython",
    "version": 3
   },
   "file_extension": ".py",
   "mimetype": "text/x-python",
   "name": "python",
   "nbconvert_exporter": "python",
   "pygments_lexer": "ipython3",
   "version": "3.13.3"
  }
 },
 "nbformat": 4,
 "nbformat_minor": 5
}
