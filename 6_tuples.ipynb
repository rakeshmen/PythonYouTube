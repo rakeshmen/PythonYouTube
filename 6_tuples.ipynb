{
 "cells": [
  {
   "cell_type": "code",
   "execution_count": 13,
   "id": "deb10c9b",
   "metadata": {},
   "outputs": [],
   "source": [
    "# Tuples are immutable sequences in Python.\n",
    "# They can be used to store a collection of items, similar to lists by using commas,\n",
    "# but they are defined with parentheses instead of square brackets.\n",
    "# but with the key difference that tuples cannot be modified after creation.\n",
    "# This means you cannot add, remove, or change items in a tuple.\n",
    "# Tuples are defined using parentheses () and can contain any type of object.\n",
    "# Commonly used for fixed collections of items, such as coordinates or RGB values.\n",
    "# Tuples support indexing and slicing, similar to lists."
   ]
  },
  {
   "cell_type": "code",
   "execution_count": 10,
   "id": "094386f9",
   "metadata": {},
   "outputs": [
    {
     "name": "stdout",
     "output_type": "stream",
     "text": [
      "Original tuple: (1, 2, 3, 4, 5)\n",
      "First element: 1\n",
      "Last element: 5\n"
     ]
    }
   ],
   "source": [
    "my_tuple = (1, 2, 3, 4, 5)\n",
    "print(\"Original tuple:\", my_tuple)\n",
    "\n",
    "# Accessing elements in a tuple\n",
    "print(\"First element:\", my_tuple[0])\n",
    "print(\"Last element:\", my_tuple[-1])"
   ]
  },
  {
   "cell_type": "code",
   "execution_count": 12,
   "id": "ce95fab2",
   "metadata": {},
   "outputs": [
    {
     "name": "stdout",
     "output_type": "stream",
     "text": [
      "Tuple from list: (6, 7, 8)\n",
      "<class 'tuple'>\n"
     ]
    }
   ],
   "source": [
    "# Constructing a tuple from a list\n",
    "my_list = [6, 7, 8]\n",
    "my_tuple_from_list = tuple(my_list)\n",
    "print(\"Tuple from list:\", my_tuple_from_list)\n",
    "print(type(my_tuple_from_list))"
   ]
  },
  {
   "cell_type": "code",
   "execution_count": 20,
   "id": "2bd42fca",
   "metadata": {},
   "outputs": [
    {
     "name": "stdout",
     "output_type": "stream",
     "text": [
      "329\n",
      "232\n"
     ]
    }
   ],
   "source": [
    "# Indexing in a tuple\n",
    "my_tuple = (329, 232, 23, 214, 125)\n",
    "print(my_tuple[0])\n",
    "print(my_tuple[1])"
   ]
  },
  {
   "cell_type": "code",
   "execution_count": 22,
   "id": "806c80f3",
   "metadata": {},
   "outputs": [
    {
     "data": {
      "text/plain": [
       "125"
      ]
     },
     "execution_count": 22,
     "metadata": {},
     "output_type": "execute_result"
    }
   ],
   "source": [
    "my_tuple[4]"
   ]
  },
  {
   "cell_type": "code",
   "execution_count": 23,
   "id": "0fbe1e10",
   "metadata": {},
   "outputs": [
    {
     "name": "stdout",
     "output_type": "stream",
     "text": [
      "Slicing tuple: (2, 3, 4)\n"
     ]
    }
   ],
   "source": [
    "# SLicing a tuple\n",
    "my_tuple = (1, 2, 3, 4, 5)\n",
    "print(\"Slicing tuple:\", my_tuple[1:4])  # Output: (2, 3, 4)"
   ]
  },
  {
   "cell_type": "code",
   "execution_count": 26,
   "id": "f4fdc2d3",
   "metadata": {},
   "outputs": [
    {
     "name": "stdout",
     "output_type": "stream",
     "text": [
      "Length of tuple: 5\n",
      "Count of 2 in tuple: 1\n",
      "Index of 3 in tuple: 2\n",
      "Sum of tuple: 15\n",
      "Minimum in tuple: 1\n",
      "Maximum in tuple: 5\n"
     ]
    }
   ],
   "source": [
    "# Common sequence operations\n",
    "print(\"Length of tuple:\", len(my_tuple))  # Output: 5\n",
    "print(\"Count of 2 in tuple:\", my_tuple.count(2))  # Output: 1\n",
    "print(\"Index of 3 in tuple:\", my_tuple.index(3))  # Output: 2\n",
    "print(\"Sum of tuple:\", sum(my_tuple))  # Output: 15\n",
    "print(\"Minimum in tuple:\", min(my_tuple))  # Output: 1\n",
    "print(\"Maximum in tuple:\", max(my_tuple))  # Output: 5"
   ]
  }
 ],
 "metadata": {
  "kernelspec": {
   "display_name": "venvpyyt",
   "language": "python",
   "name": "python3"
  },
  "language_info": {
   "codemirror_mode": {
    "name": "ipython",
    "version": 3
   },
   "file_extension": ".py",
   "mimetype": "text/x-python",
   "name": "python",
   "nbconvert_exporter": "python",
   "pygments_lexer": "ipython3",
   "version": "3.13.3"
  }
 },
 "nbformat": 4,
 "nbformat_minor": 5
}
