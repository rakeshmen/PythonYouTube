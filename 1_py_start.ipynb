{
 "cells": [
  {
   "cell_type": "markdown",
   "id": "cc6e8995",
   "metadata": {},
   "source": [
    "# Steps to work with python in VS Code\n",
    "Install Python, Intall VS Code.\n",
    "\n",
    "Create dedicated folder in computer for a project.<br>\n",
    "Open VS Code.<br>\n",
    "Create workspace first.<br>\n",
    "Add created folder to workspace.<br>\n",
    "- Create virtual environment for this.<br>\n",
    "\n",
    "Steps to create virtual environment:<br>\n",
    "Open new terminal and type:<br>\n",
    "Python -m venv \"name_of_venv\"<br>\n",
    "Ex:<br>\n",
    "Python -m venv myvenv<br>\n",
    "Activate this virtual environment.<br>\n",
    "Ex:<br>\n",
    "myvenv\\Scripts\\activate<br>\n",
    "- If you get error like<br>\n",
    "File D:\\PythonExercise\\venv\\Scripts\\Activate.ps1 cannot be loaded because running scripts is \n",
    "disabled on this system. Then run following command in terminal.<br>\n",
    "\n",
    "Set-ExecutionPolicy -ExecutionPolicy Bypass -Scope Process\n",
    "\n",
    "- Now you are in the venv and need to install some packages.<br>\n",
    "Run this in terminal:<br>\n",
    "\n",
    "pip install numpy pandas matplotlib seaborn scikit-learn jupyter<br>\n",
    "pip install ipykernel<br>\n",
    "\n",
    "Give name to this kernel to use in venv<br>\n",
    "Run this in terminal:<br>\n",
    "python -m ipykernel install --user --name=\"your_virtual_env_name\"<br>\n",
    "Ex:<br>\n",
    "python -m ipykernel install --user --name=venvkernel<br>\n",
    "\n",
    "### You are now ready to go\n"
   ]
  }
 ],
 "metadata": {
  "kernelspec": {
   "display_name": "venvpyyt",
   "language": "python",
   "name": "python3"
  },
  "language_info": {
   "codemirror_mode": {
    "name": "ipython",
    "version": 3
   },
   "file_extension": ".py",
   "mimetype": "text/x-python",
   "name": "python",
   "nbconvert_exporter": "python",
   "pygments_lexer": "ipython3",
   "version": "3.13.3"
  }
 },
 "nbformat": 4,
 "nbformat_minor": 5
}
