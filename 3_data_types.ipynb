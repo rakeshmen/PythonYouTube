{
 "cells": [
  {
   "cell_type": "code",
   "execution_count": 1,
   "id": "dcf48148",
   "metadata": {},
   "outputs": [],
   "source": [
    "# Data Types in Python\n",
    "# Python has several built-in data types that are used to store values.\n",
    "# The most common data types are:\n",
    "# 1. Integers: Whole numbers, e.g., 1, 2, 3\n",
    "# 2. Floats: Decimal numbers, e.g., 1.0, 2.5, 3.14, 1/2, 2/3\n",
    "# 3. Strings: Text, e.g., \"Hello, World!\"\n",
    "\n",
    "## Data Structures\n",
    "# 1. Arrays: Ordered collections of items, e.g., [1, 2, 3], [\"apple\", \"banana\"]\n",
    "# 2. Lists: Ordered collections of items, e.g., [1, 2, 3], [\"apple\", \"banana\"]\n",
    "# 3. Tuples: Immutable ordered collections, e.g., (1, 2, 3), (\"apple\", \"banana\")\n",
    "# 4. Dictionaries: Key-value pairs, e.g., {\"name\": \"Alice\", \"age\": 25}\n",
    "# 5. Sets: Unordered collections of unique items, e.g., {1, 2, 3}, {\"apple\", \"banana\"}\n"
   ]
  },
  {
   "cell_type": "markdown",
   "id": "828e4591",
   "metadata": {},
   "source": [
    "# Integer"
   ]
  },
  {
   "cell_type": "code",
   "execution_count": 3,
   "id": "1107464e",
   "metadata": {},
   "outputs": [
    {
     "name": "stdout",
     "output_type": "stream",
     "text": [
      "<class 'int'>\n"
     ]
    }
   ],
   "source": [
    "# Integer\n",
    "a = 10\n",
    "print(type(a))  # Output: <class 'int'>"
   ]
  },
  {
   "cell_type": "code",
   "execution_count": 4,
   "id": "43830791",
   "metadata": {},
   "outputs": [
    {
     "data": {
      "text/plain": [
       "True"
      ]
     },
     "execution_count": 4,
     "metadata": {},
     "output_type": "execute_result"
    }
   ],
   "source": [
    "isinstance(a, int)  # Check if 'a' is an instance of int\n",
    "# Output: True"
   ]
  },
  {
   "cell_type": "markdown",
   "id": "90f81f2c",
   "metadata": {},
   "source": [
    "# Float"
   ]
  },
  {
   "cell_type": "code",
   "execution_count": 9,
   "id": "a213e6c2",
   "metadata": {},
   "outputs": [],
   "source": [
    "# Float\n",
    "b = 10.5\n",
    "c = 1/3"
   ]
  },
  {
   "cell_type": "code",
   "execution_count": 10,
   "id": "58712ebf",
   "metadata": {},
   "outputs": [
    {
     "data": {
      "text/plain": [
       "float"
      ]
     },
     "execution_count": 10,
     "metadata": {},
     "output_type": "execute_result"
    }
   ],
   "source": [
    "type(c)  # Output: <class 'float'>"
   ]
  },
  {
   "cell_type": "code",
   "execution_count": 13,
   "id": "bf114791",
   "metadata": {},
   "outputs": [
    {
     "data": {
      "text/plain": [
       "float"
      ]
     },
     "execution_count": 13,
     "metadata": {},
     "output_type": "execute_result"
    }
   ],
   "source": [
    "type(b)  # Output: <class 'float'>"
   ]
  },
  {
   "cell_type": "code",
   "execution_count": 14,
   "id": "f9103bf5",
   "metadata": {},
   "outputs": [
    {
     "data": {
      "text/plain": [
       "True"
      ]
     },
     "execution_count": 14,
     "metadata": {},
     "output_type": "execute_result"
    }
   ],
   "source": [
    "isinstance(b, float)  # Check if 'b' is an instance of float"
   ]
  },
  {
   "cell_type": "code",
   "execution_count": 15,
   "id": "618d61b3",
   "metadata": {},
   "outputs": [],
   "source": [
    "d = 1.0 + 10"
   ]
  },
  {
   "cell_type": "code",
   "execution_count": 16,
   "id": "029fd743",
   "metadata": {},
   "outputs": [
    {
     "name": "stdout",
     "output_type": "stream",
     "text": [
      "<class 'float'>\n"
     ]
    }
   ],
   "source": [
    "print(type(d))  # Output: <class 'float'>"
   ]
  },
  {
   "cell_type": "markdown",
   "id": "ac40f040",
   "metadata": {},
   "source": [
    "##### Convert float to int"
   ]
  },
  {
   "cell_type": "code",
   "execution_count": 17,
   "id": "ab40d56b",
   "metadata": {},
   "outputs": [
    {
     "data": {
      "text/plain": [
       "11"
      ]
     },
     "execution_count": 17,
     "metadata": {},
     "output_type": "execute_result"
    }
   ],
   "source": [
    "int(d)  # Convert float to int\n",
    "# Output: 11"
   ]
  },
  {
   "cell_type": "markdown",
   "id": "2ddef692",
   "metadata": {},
   "source": [
    "# Boolean"
   ]
  },
  {
   "cell_type": "code",
   "execution_count": 22,
   "id": "a4b03733",
   "metadata": {},
   "outputs": [],
   "source": [
    "z = True"
   ]
  },
  {
   "cell_type": "code",
   "execution_count": 23,
   "id": "8d91a7bb",
   "metadata": {},
   "outputs": [
    {
     "data": {
      "text/plain": [
       "bool"
      ]
     },
     "execution_count": 23,
     "metadata": {},
     "output_type": "execute_result"
    }
   ],
   "source": [
    "type(z)"
   ]
  },
  {
   "cell_type": "code",
   "execution_count": 24,
   "id": "f092d573",
   "metadata": {},
   "outputs": [],
   "source": [
    "x = False"
   ]
  },
  {
   "cell_type": "code",
   "execution_count": 25,
   "id": "714731ab",
   "metadata": {},
   "outputs": [
    {
     "data": {
      "text/plain": [
       "bool"
      ]
     },
     "execution_count": 25,
     "metadata": {},
     "output_type": "execute_result"
    }
   ],
   "source": [
    "type(x)"
   ]
  },
  {
   "cell_type": "code",
   "execution_count": 26,
   "id": "aaf94df9",
   "metadata": {},
   "outputs": [
    {
     "data": {
      "text/plain": [
       "True"
      ]
     },
     "execution_count": 26,
     "metadata": {},
     "output_type": "execute_result"
    }
   ],
   "source": [
    "isinstance(x, bool)  # Check if 'x' is an instance of bool\n",
    "# Output: True"
   ]
  },
  {
   "cell_type": "code",
   "execution_count": 27,
   "id": "c8efc794",
   "metadata": {},
   "outputs": [
    {
     "data": {
      "text/plain": [
       "True"
      ]
     },
     "execution_count": 27,
     "metadata": {},
     "output_type": "execute_result"
    }
   ],
   "source": [
    "isinstance(z, bool)  # Check if 'z' is an instance of bool\n",
    "# Output: True"
   ]
  },
  {
   "cell_type": "markdown",
   "id": "00487909",
   "metadata": {},
   "source": [
    "##### Check condition with boolean"
   ]
  },
  {
   "cell_type": "code",
   "execution_count": 32,
   "id": "67623b30",
   "metadata": {},
   "outputs": [
    {
     "data": {
      "text/plain": [
       "True"
      ]
     },
     "execution_count": 32,
     "metadata": {},
     "output_type": "execute_result"
    }
   ],
   "source": [
    "90 > 10 # Output: True"
   ]
  },
  {
   "cell_type": "code",
   "execution_count": 33,
   "id": "257c398f",
   "metadata": {},
   "outputs": [
    {
     "data": {
      "text/plain": [
       "False"
      ]
     },
     "execution_count": 33,
     "metadata": {},
     "output_type": "execute_result"
    }
   ],
   "source": [
    "10 < 10 # Output: False"
   ]
  },
  {
   "cell_type": "code",
   "execution_count": 38,
   "id": "6bb0af37",
   "metadata": {},
   "outputs": [
    {
     "data": {
      "text/plain": [
       "True"
      ]
     },
     "execution_count": 38,
     "metadata": {},
     "output_type": "execute_result"
    }
   ],
   "source": [
    "20 == 20 # Output: True"
   ]
  },
  {
   "cell_type": "code",
   "execution_count": 35,
   "id": "e0a7745e",
   "metadata": {},
   "outputs": [
    {
     "data": {
      "text/plain": [
       "False"
      ]
     },
     "execution_count": 35,
     "metadata": {},
     "output_type": "execute_result"
    }
   ],
   "source": [
    "50 != 50 # Output: False"
   ]
  },
  {
   "cell_type": "code",
   "execution_count": 37,
   "id": "4074104a",
   "metadata": {},
   "outputs": [
    {
     "data": {
      "text/plain": [
       "True"
      ]
     },
     "execution_count": 37,
     "metadata": {},
     "output_type": "execute_result"
    }
   ],
   "source": [
    "40 >= 40 # Output: True"
   ]
  },
  {
   "cell_type": "code",
   "execution_count": 39,
   "id": "de940f09",
   "metadata": {},
   "outputs": [
    {
     "data": {
      "text/plain": [
       "True"
      ]
     },
     "execution_count": 39,
     "metadata": {},
     "output_type": "execute_result"
    }
   ],
   "source": [
    "25 == 25.0 # Output: True"
   ]
  },
  {
   "cell_type": "code",
   "execution_count": 40,
   "id": "2bc40878",
   "metadata": {},
   "outputs": [
    {
     "data": {
      "text/plain": [
       "False"
      ]
     },
     "execution_count": 40,
     "metadata": {},
     "output_type": "execute_result"
    }
   ],
   "source": [
    "# not for negation\n",
    "not True # Output: False"
   ]
  },
  {
   "cell_type": "code",
   "execution_count": 44,
   "id": "27ed1966",
   "metadata": {},
   "outputs": [
    {
     "data": {
      "text/plain": [
       "True"
      ]
     },
     "execution_count": 44,
     "metadata": {},
     "output_type": "execute_result"
    }
   ],
   "source": [
    "not False # Output: True"
   ]
  },
  {
   "cell_type": "markdown",
   "id": "53bc6af1",
   "metadata": {},
   "source": [
    "##### Logical operators"
   ]
  },
  {
   "cell_type": "code",
   "execution_count": 51,
   "id": "64659e57",
   "metadata": {},
   "outputs": [
    {
     "data": {
      "text/plain": [
       "False"
      ]
     },
     "execution_count": 51,
     "metadata": {},
     "output_type": "execute_result"
    }
   ],
   "source": [
    "True and False # Output: False"
   ]
  },
  {
   "cell_type": "code",
   "execution_count": 48,
   "id": "46063f8e",
   "metadata": {},
   "outputs": [
    {
     "data": {
      "text/plain": [
       "True"
      ]
     },
     "execution_count": 48,
     "metadata": {},
     "output_type": "execute_result"
    }
   ],
   "source": [
    "True or False # Output: True"
   ]
  },
  {
   "cell_type": "code",
   "execution_count": 49,
   "id": "9811c01a",
   "metadata": {},
   "outputs": [
    {
     "data": {
      "text/plain": [
       "False"
      ]
     },
     "execution_count": 49,
     "metadata": {},
     "output_type": "execute_result"
    }
   ],
   "source": [
    "False and True # Output: False\n"
   ]
  },
  {
   "cell_type": "code",
   "execution_count": 50,
   "id": "7e7647c7",
   "metadata": {},
   "outputs": [
    {
     "data": {
      "text/plain": [
       "True"
      ]
     },
     "execution_count": 50,
     "metadata": {},
     "output_type": "execute_result"
    }
   ],
   "source": [
    "False or True # Output: True"
   ]
  },
  {
   "cell_type": "code",
   "execution_count": 56,
   "id": "5ebf78c0",
   "metadata": {},
   "outputs": [
    {
     "data": {
      "text/plain": [
       "False"
      ]
     },
     "execution_count": 56,
     "metadata": {},
     "output_type": "execute_result"
    }
   ],
   "source": [
    "False and False # Output: False"
   ]
  },
  {
   "cell_type": "code",
   "execution_count": 53,
   "id": "45748932",
   "metadata": {},
   "outputs": [
    {
     "data": {
      "text/plain": [
       "True"
      ]
     },
     "execution_count": 53,
     "metadata": {},
     "output_type": "execute_result"
    }
   ],
   "source": [
    "(1<2) and (2<3) # Output: True"
   ]
  },
  {
   "cell_type": "code",
   "execution_count": 54,
   "id": "66a63b43",
   "metadata": {},
   "outputs": [
    {
     "data": {
      "text/plain": [
       "True"
      ]
     },
     "execution_count": 54,
     "metadata": {},
     "output_type": "execute_result"
    }
   ],
   "source": [
    "(10 > 5) and (5 < 10) # Output: True"
   ]
  },
  {
   "cell_type": "code",
   "execution_count": 55,
   "id": "b1db4c66",
   "metadata": {},
   "outputs": [
    {
     "data": {
      "text/plain": [
       "False"
      ]
     },
     "execution_count": 55,
     "metadata": {},
     "output_type": "execute_result"
    }
   ],
   "source": [
    "(2 > 3) and (3 < 2) # Output: False"
   ]
  },
  {
   "cell_type": "code",
   "execution_count": 57,
   "id": "7f2d624b",
   "metadata": {},
   "outputs": [
    {
     "data": {
      "text/plain": [
       "True"
      ]
     },
     "execution_count": 57,
     "metadata": {},
     "output_type": "execute_result"
    }
   ],
   "source": [
    "(10 > 5) or (5 < 10) # Output: True"
   ]
  },
  {
   "cell_type": "code",
   "execution_count": 58,
   "id": "f9dabd27",
   "metadata": {},
   "outputs": [
    {
     "data": {
      "text/plain": [
       "True"
      ]
     },
     "execution_count": 58,
     "metadata": {},
     "output_type": "execute_result"
    }
   ],
   "source": [
    "(10 > 5) or (5 > 10) # Output: True"
   ]
  },
  {
   "cell_type": "code",
   "execution_count": 60,
   "id": "25563177",
   "metadata": {},
   "outputs": [],
   "source": [
    "# Order of operations for logical operators\n",
    "# Initially, comparisons (>,<,==,!=) are evaluated first, followed by logical operators.\n",
    "# 1. not\n",
    "# 2. and\n",
    "# 3. or"
   ]
  },
  {
   "cell_type": "code",
   "execution_count": 62,
   "id": "a1696b29",
   "metadata": {},
   "outputs": [
    {
     "data": {
      "text/plain": [
       "True"
      ]
     },
     "execution_count": 62,
     "metadata": {},
     "output_type": "execute_result"
    }
   ],
   "source": [
    "(10 > 5) and (5 < 10) or (not True) and (10 != 10) # Output: True"
   ]
  },
  {
   "cell_type": "markdown",
   "id": "12fec7fb",
   "metadata": {},
   "source": [
    "##### Boolean representation as integers\n",
    "##### In Python, True is represented as 1 and False as 0."
   ]
  },
  {
   "cell_type": "code",
   "execution_count": 64,
   "id": "f8b5c68e",
   "metadata": {},
   "outputs": [
    {
     "data": {
      "text/plain": [
       "False"
      ]
     },
     "execution_count": 64,
     "metadata": {},
     "output_type": "execute_result"
    }
   ],
   "source": [
    "bool(0) # Output: False"
   ]
  },
  {
   "cell_type": "code",
   "execution_count": 65,
   "id": "410d059c",
   "metadata": {},
   "outputs": [
    {
     "data": {
      "text/plain": [
       "True"
      ]
     },
     "execution_count": 65,
     "metadata": {},
     "output_type": "execute_result"
    }
   ],
   "source": [
    "bool(1) # Output: True"
   ]
  },
  {
   "cell_type": "markdown",
   "id": "1c51982e",
   "metadata": {},
   "source": [
    "# String"
   ]
  },
  {
   "cell_type": "code",
   "execution_count": 67,
   "id": "17d3b72a",
   "metadata": {},
   "outputs": [
    {
     "data": {
      "text/plain": [
       "str"
      ]
     },
     "execution_count": 67,
     "metadata": {},
     "output_type": "execute_result"
    }
   ],
   "source": [
    "type('rakesh') # Output: <class 'str'>"
   ]
  },
  {
   "cell_type": "code",
   "execution_count": 71,
   "id": "59e3a834",
   "metadata": {},
   "outputs": [
    {
     "data": {
      "text/plain": [
       "str"
      ]
     },
     "execution_count": 71,
     "metadata": {},
     "output_type": "execute_result"
    }
   ],
   "source": [
    "# Integer as String\n",
    "type('1')\n",
    "# When you use single or double quotes, it is treated as a string."
   ]
  },
  {
   "cell_type": "code",
   "execution_count": 73,
   "id": "bfd5a4d5",
   "metadata": {},
   "outputs": [
    {
     "data": {
      "text/plain": [
       "str"
      ]
     },
     "execution_count": 73,
     "metadata": {},
     "output_type": "execute_result"
    }
   ],
   "source": [
    "# Empty String\n",
    "type('')"
   ]
  },
  {
   "cell_type": "markdown",
   "id": "77ee88e5",
   "metadata": {},
   "source": [
    "# None"
   ]
  },
  {
   "cell_type": "markdown",
   "id": "019410f3",
   "metadata": {},
   "source": [
    "##### None is a special type in Python that represents the absence of a value or a null value.\n",
    "##### It is often used to indicate that a variable has no value or that a function does not return anything."
   ]
  },
  {
   "cell_type": "code",
   "execution_count": 76,
   "id": "98689f3f",
   "metadata": {},
   "outputs": [
    {
     "data": {
      "text/plain": [
       "NoneType"
      ]
     },
     "execution_count": 76,
     "metadata": {},
     "output_type": "execute_result"
    }
   ],
   "source": [
    "type(None)"
   ]
  }
 ],
 "metadata": {
  "kernelspec": {
   "display_name": "venvpyyt",
   "language": "python",
   "name": "python3"
  },
  "language_info": {
   "codemirror_mode": {
    "name": "ipython",
    "version": 3
   },
   "file_extension": ".py",
   "mimetype": "text/x-python",
   "name": "python",
   "nbconvert_exporter": "python",
   "pygments_lexer": "ipython3",
   "version": "3.13.3"
  }
 },
 "nbformat": 4,
 "nbformat_minor": 5
}
